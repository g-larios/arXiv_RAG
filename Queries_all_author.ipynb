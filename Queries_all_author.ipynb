{
 "cells": [
  {
   "cell_type": "markdown",
   "metadata": {},
   "source": [
    "# Query based on author information \n",
    "\n",
    "For an author based query, the arXiv API needs\n",
    "\n",
    "- full_name: author's full name. The expected format is 'first name' + 'middle name' + 'surname', separated with spaces and with middle name possibly null.\n",
    "\n",
    "- cat: category in (astro-ph, cond-mat, gr-qc, hep-ex, hep-lat, hep-th,hep-ph, math-ph, nlin, nucl-ex, nucl-th, physics, quant-ph, math, CoRR, q-bio, q-fin, stat, eess, econ). See https://arxiv.org/category_taxonomy for details"
   ]
  },
  {
   "cell_type": "code",
   "execution_count": null,
   "metadata": {},
   "outputs": [],
   "source": [
    "import urllib, urllib.request\n",
    "import feedparser\n",
    "import os\n",
    "import json\n",
    "\n",
    "# import pandas as pd"
   ]
  },
  {
   "cell_type": "code",
   "execution_count": null,
   "metadata": {},
   "outputs": [],
   "source": [
    "# Output files\n",
    "path = os.getcwd()+'/Output/'"
   ]
  },
  {
   "cell_type": "code",
   "execution_count": null,
   "metadata": {},
   "outputs": [],
   "source": [
    "# Query parameters\n",
    "full_name = 'Emanuel Malek'\n",
    "category = 'hep-th'\n",
    "\n",
    "base_url = 'http://export.arxiv.org/api/query?'\n",
    "max_results=1000\n",
    "\n",
    "\n",
    "# Name parsing\n",
    "name_list = full_name.split()\n",
    "\n",
    "if len(name_list) == 1:\n",
    "    name = None\n",
    "    middle = None\n",
    "    surname = name_list[0]\n",
    "    name_list = [surname]\n",
    "    search_query = f'au:{surname}+AND+cat:{category}&sortBy=submittedDate&sortOrder=descending' \n",
    "elif len(name_list) == 2:\n",
    "    name = name_list[0][0]+'.'\n",
    "    middle = None\n",
    "    surname = name_list[1]\n",
    "    name_list = [name, surname]\n",
    "    search_query = f'au:{name}+{surname}+AND+cat:{category}&sortBy=submittedDate&sortOrder=descending'                   \n",
    "\n",
    "elif len(name_list) == 3:\n",
    "    name = name_list[0][0]+'.'\n",
    "    middle = name_list[1][0]+'.'\n",
    "    surname = name_list[2]\n",
    "    name_list = [name, middle, surname]\n",
    "    search_query = f'au:{name}+{middle}+{surname}+AND+cat:{category}&sortBy=submittedDate&sortOrder=descending' \n",
    "\n",
    "else:\n",
    "    raise UserWarning('Name not in expeceted format: \\'first name\\' + \\'middle name\\' + \\'surname\\'')\n",
    "\n",
    "\n",
    "\n",
    "# Query\n",
    "query = 'search_query=%s&max_results=%i' % (search_query,max_results)\n",
    "\n",
    "data = urllib.request.urlopen(base_url+query)\n",
    "feed = feedparser.parse(data.read().decode('utf-8'))"
   ]
  },
  {
   "cell_type": "code",
   "execution_count": null,
   "metadata": {},
   "outputs": [],
   "source": [
    "# entries = pd.DataFrame(feed.entries)[['id','published','authors','title','summary']]\n",
    "# entries"
   ]
  },
  {
   "cell_type": "code",
   "execution_count": null,
   "metadata": {},
   "outputs": [],
   "source": [
    "# The following might be streamlined using the re package\n",
    "def initials(name):\n",
    "    name_split = name.lower().split()\n",
    "    if len(name_split) == 1:\n",
    "        return name_split\n",
    "    else:\n",
    "        return [name_split[i][0]+'.' for i in range(len(name_split)-1)] + [name_split[-1]]\n",
    "    \n",
    "def author_in_list(authors):\n",
    "    for aut in authors:\n",
    "        true = 1\n",
    "        aut_initials = initials(aut)\n",
    "        if len(aut_initials) == len(name_list):\n",
    "            for i, j in zip(name_list, aut_initials):\n",
    "                true *= (i.lower() == j)\n",
    "        elif len(name_list) > 1:\n",
    "            true = (name_list[-1].lower() == aut_initials[-1])*(name_list[0].lower() == aut_initials[0])\n",
    "        else:\n",
    "            true = (name_list[-1].lower() == aut_initials[-1])\n",
    "        \n",
    "        if true == 1: return True\n",
    "    return False"
   ]
  },
  {
   "cell_type": "code",
   "execution_count": null,
   "metadata": {},
   "outputs": [],
   "source": [
    "output = []\n",
    "filename = f'{name}_{surname}_with_abstracts.txt'\n",
    "\n",
    "\n",
    "# Select and record relevant information for each entry, if the query author is among the authors of the entry\n",
    "for entry in feed.entries:\n",
    "    entry_info = {\n",
    "        'id' : entry.id.split('/abs/')[-1],\n",
    "        'published' : entry.published,\n",
    "        'authors' : [aut['name'] for aut in entry.authors],\n",
    "        'title': entry.title,\n",
    "        'summary': entry.summary\n",
    "        }\n",
    "    \n",
    "    # Filter\n",
    "    if author_in_list(entry_info['authors']):\n",
    "        output.append(entry_info)\n",
    "\n",
    "with open(path+filename,'w') as file:\n",
    "    json.dump(output,file)"
   ]
  },
  {
   "cell_type": "code",
   "execution_count": null,
   "metadata": {},
   "outputs": [],
   "source": [
    "# output"
   ]
  }
 ],
 "metadata": {
  "kernelspec": {
   "display_name": "arXiv",
   "language": "python",
   "name": "python3"
  },
  "language_info": {
   "codemirror_mode": {
    "name": "ipython",
    "version": 3
   },
   "file_extension": ".py",
   "mimetype": "text/x-python",
   "name": "python",
   "nbconvert_exporter": "python",
   "pygments_lexer": "ipython3",
   "version": "3.12.3"
  }
 },
 "nbformat": 4,
 "nbformat_minor": 2
}
