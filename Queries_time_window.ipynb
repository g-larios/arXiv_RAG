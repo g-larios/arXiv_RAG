{
 "cells": [
  {
   "cell_type": "markdown",
   "metadata": {},
   "source": [
    "# Query based on category and time-interval \n",
    "\n",
    "For a category + time-interval based query, the arXiv API needs\n",
    "\n",
    "- cat: category in (astro-ph, cond-mat, gr-qc, hep-ex, hep-lat, hep-th,hep-ph, math-ph, nlin, nucl-ex, nucl-th, physics, quant-ph, math, CoRR, q-bio, q-fin, stat, eess, econ). See https://arxiv.org/category_taxonomy for details\n",
    "\n",
    "- start: Start date in YYYY-MM-DD format\n",
    "\n",
    "- end: End date in YYYY-MM-DD format"
   ]
  },
  {
   "cell_type": "code",
   "execution_count": null,
   "metadata": {},
   "outputs": [],
   "source": [
    "%conda install feedparser"
   ]
  },
  {
   "cell_type": "code",
   "execution_count": null,
   "metadata": {},
   "outputs": [],
   "source": [
    "import urllib, urllib.request\n",
    "import feedparser\n",
    "import os\n",
    "import json"
   ]
  },
  {
   "cell_type": "code",
   "execution_count": null,
   "metadata": {},
   "outputs": [],
   "source": [
    "# Output files\n",
    "path = os.getcwd()+'/Output/'"
   ]
  },
  {
   "cell_type": "code",
   "execution_count": null,
   "metadata": {},
   "outputs": [],
   "source": [
    "# Query parameters\n",
    "base_url = 'http://export.arxiv.org/api/query?'\n",
    "\n",
    "cat = 'hep-th'\n",
    "start = '2024-09-12'\n",
    "end = '2024-09-25'\n",
    "\n",
    "start = start.replace('-','').replace('+','').replace('/','')\n",
    "end = end.replace('-','').replace('+','').replace('/','')\n",
    "\n",
    "results_per_iteration = 10000       # maximum 10 000 results at a time [api maximum]\n",
    "\n",
    "\n",
    "if start > end:\n",
    "    raise UserWarning('Start date needs to precede end date')\n",
    "\n",
    "\n",
    "# Query\n",
    "search_query = f'cat:{cat}+AND+submittedDate:[{start}0000+TO+{end}2359]'     \n",
    "query = 'search_query=%s&start=%i&max_results=%i' % (search_query, 0, results_per_iteration)\n",
    "\n",
    "data = urllib.request.urlopen(base_url+query)\n",
    "feed = feedparser.parse(data.read().decode('utf-8'))    # This throws: 'utf-8' codec can't decode byte 0xc9.\n",
    "                                                        # try/except does not help \n",
    "\n",
    "output = []\n",
    "filename = f'{cat}_period_{start}_{end}.txt'\n",
    "\n",
    "# Run through each entry, and print out information\n",
    "for entry in feed.entries:\n",
    "    entry_info = {\n",
    "        'id' : entry.id.split('/abs/')[-1],\n",
    "        'published' : entry.published,\n",
    "        'authors' : entry.authors,\n",
    "        'title': entry.title,\n",
    "        'summary': entry.summary\n",
    "        }\n",
    "    output.append(entry_info)\n",
    "\n",
    "with open(path+filename,'w') as file:\n",
    "    json.dump(output,file)\n",
    "    "
   ]
  }
 ],
 "metadata": {
  "kernelspec": {
   "display_name": "arXiv",
   "language": "python",
   "name": "python3"
  },
  "language_info": {
   "codemirror_mode": {
    "name": "ipython",
    "version": 3
   },
   "file_extension": ".py",
   "mimetype": "text/x-python",
   "name": "python",
   "nbconvert_exporter": "python",
   "pygments_lexer": "ipython3",
   "version": "3.12.3"
  }
 },
 "nbformat": 4,
 "nbformat_minor": 2
}
