{
  "cells": [
    {
      "cell_type": "markdown",
      "metadata": {
        "id": "view-in-github",
        "colab_type": "text"
      },
      "source": [
        "<a href=\"https://colab.research.google.com/github/g-larios/arXiv_RAG/blob/main/Author_Career_Summary_Using_ArXiv_and_Gemini.ipynb\" target=\"_parent\"><img src=\"https://colab.research.google.com/assets/colab-badge.svg\" alt=\"Open In Colab\"/></a>"
      ]
    },
    {
      "cell_type": "markdown",
      "metadata": {
        "id": "zkrEi3qe6obB"
      },
      "source": [
        "# Query based on author information\n",
        "\n",
        "For an author based query, the arXiv API needs\n",
        "\n",
        "- full_name: author's full name. The expected format is 'first name' + 'middle name' + 'surname', separated with spaces and with middle name possibly null.\n",
        "\n",
        "- cat: category in (astro-ph, cond-mat, gr-qc, hep-ex, hep-lat, hep-th,hep-ph, math-ph, nlin, nucl-ex, nucl-th, physics, quant-ph, math, CoRR, q-bio, q-fin, stat, eess, econ). See https://arxiv.org/category_taxonomy for details"
      ]
    },
    {
      "cell_type": "markdown",
      "source": [
        "# Installing Packages and importing relevant Imports"
      ],
      "metadata": {
        "id": "NYkh8A8vvZr0"
      }
    },
    {
      "cell_type": "code",
      "source": [
        "%pip install -q feedparser\n",
        "\n",
        "%pip install -q langchain\n",
        "%pip install -q langchain-community\n",
        "%pip install -qU google-generativeai\n",
        "%pip install -qU langchain-google-genai"
      ],
      "metadata": {
        "id": "JYJIBT9G7KXb",
        "colab": {
          "base_uri": "https://localhost:8080/"
        },
        "outputId": "fadcae06-965b-4e13-eb7b-c2e026439a93"
      },
      "execution_count": 1,
      "outputs": [
        {
          "output_type": "stream",
          "name": "stdout",
          "text": [
            "  Preparing metadata (setup.py) ... \u001b[?25l\u001b[?25hdone\n",
            "\u001b[?25l   \u001b[90m━━━━━━━━━━━━━━━━━━━━━━━━━━━━━━━━━━━━━━━━\u001b[0m \u001b[32m0.0/81.3 kB\u001b[0m \u001b[31m?\u001b[0m eta \u001b[36m-:--:--\u001b[0m\r\u001b[2K   \u001b[91m━━━━━━━━━━━━━━━━━━━━━━━━━━━━━━━━━━━\u001b[0m\u001b[90m╺\u001b[0m\u001b[90m━━━━\u001b[0m \u001b[32m71.7/81.3 kB\u001b[0m \u001b[31m6.7 MB/s\u001b[0m eta \u001b[36m0:00:01\u001b[0m\r\u001b[2K   \u001b[91m━━━━━━━━━━━━━━━━━━━━━━━━━━━━━━━━━━━\u001b[0m\u001b[90m╺\u001b[0m\u001b[90m━━━━\u001b[0m \u001b[32m71.7/81.3 kB\u001b[0m \u001b[31m6.7 MB/s\u001b[0m eta \u001b[36m0:00:01\u001b[0m\r\u001b[2K   \u001b[91m━━━━━━━━━━━━━━━━━━━━━━━━━━━━━━━━━━━\u001b[0m\u001b[90m╺\u001b[0m\u001b[90m━━━━\u001b[0m \u001b[32m71.7/81.3 kB\u001b[0m \u001b[31m6.7 MB/s\u001b[0m eta \u001b[36m0:00:01\u001b[0m\r\u001b[2K   \u001b[90m━━━━━━━━━━━━━━━━━━━━━━━━━━━━━━━━━━━━━━━━\u001b[0m \u001b[32m81.3/81.3 kB\u001b[0m \u001b[31m437.3 kB/s\u001b[0m eta \u001b[36m0:00:00\u001b[0m\n",
            "\u001b[?25h  Building wheel for sgmllib3k (setup.py) ... \u001b[?25l\u001b[?25hdone\n",
            "\u001b[2K   \u001b[90m━━━━━━━━━━━━━━━━━━━━━━━━━━━━━━━━━━━━━━━━\u001b[0m \u001b[32m2.4/2.4 MB\u001b[0m \u001b[31m62.3 MB/s\u001b[0m eta \u001b[36m0:00:00\u001b[0m\n",
            "\u001b[2K   \u001b[90m━━━━━━━━━━━━━━━━━━━━━━━━━━━━━━━━━━━━━━━━\u001b[0m \u001b[32m3.1/3.1 MB\u001b[0m \u001b[31m80.6 MB/s\u001b[0m eta \u001b[36m0:00:00\u001b[0m\n",
            "\u001b[2K   \u001b[90m━━━━━━━━━━━━━━━━━━━━━━━━━━━━━━━━━━━━━━━━\u001b[0m \u001b[32m49.5/49.5 kB\u001b[0m \u001b[31m4.2 MB/s\u001b[0m eta \u001b[36m0:00:00\u001b[0m\n",
            "\u001b[2K   \u001b[90m━━━━━━━━━━━━━━━━━━━━━━━━━━━━━━━━━━━━━━━━\u001b[0m \u001b[32m41.8/41.8 kB\u001b[0m \u001b[31m3.3 MB/s\u001b[0m eta \u001b[36m0:00:00\u001b[0m\n",
            "\u001b[?25h"
          ]
        }
      ]
    },
    {
      "cell_type": "code",
      "source": [
        "import urllib, urllib.request\n",
        "import feedparser\n",
        "import os\n",
        "import json\n",
        "import textwrap\n",
        "import math\n",
        "import getpass\n",
        "\n",
        "from langchain_google_genai import ChatGoogleGenerativeAI\n",
        "from langchain.prompts import ChatPromptTemplate"
      ],
      "metadata": {
        "id": "CqrsfvBSvnNB"
      },
      "execution_count": 2,
      "outputs": []
    },
    {
      "cell_type": "markdown",
      "source": [
        "# Set up the LLM Model and Langchain Chain"
      ],
      "metadata": {
        "id": "skTIxvSBvACY"
      }
    },
    {
      "cell_type": "markdown",
      "source": [
        "Here we will use Gemini model to do our inference and use langchain to create a small prompt pipeline."
      ],
      "metadata": {
        "id": "XNVaAAOOvGwQ"
      }
    },
    {
      "cell_type": "code",
      "execution_count": null,
      "metadata": {
        "id": "4UyvBqiq6obD"
      },
      "outputs": [],
      "source": [
        "os.environ[\"GOOGLE_API_KEY\"] = getpass.getpass(\"Enter your Google AI API key: \")\n",
        "\n",
        "llm = ChatGoogleGenerativeAI(\n",
        "    model=\"gemini-1.5-pro\",\n",
        "    temperature=0,\n",
        "    max_tokens=50000,\n",
        "    timeout=None,\n",
        "    max_retries=5,\n",
        "    # other params..\n",
        ")\n",
        "\n",
        "prompt = ChatPromptTemplate.from_messages([\n",
        "    (\"system\", \"You are a analyst that specializes in understanding the topic of interest of a given author or time period. \"\n",
        "    \"You are given a set of papers by a certain author and you are to give a report on how the interest of this author have changed over time. The information is in a .json file format. \"\n",
        "    \"The information contains the id of the paper, the date it was published, list of authors, and a summary of the paper. \"\n",
        "    \"Create a citation of papers with proper bibliography to support why you think the author worked on the topic you state. \"\n",
        "    \"Put the references at the end of and use numbers to cite through the body. \"\n",
        "    #\"Cite the paper using the id to support why you think the author worked on the topic you state. \"\n",
        "    \"Do not summaries the author's papers. \" #but only give a description of the progression of the interest of the author throughout the years.\n",
        "    \"Give an in-depth summary of their career but keep it concise. \"\n",
        "    \"Focus only on the author the user asked about and disregard any papers that do not contain that author's name.\"),\n",
        "    (\"user\", \"{Prompt}\\nContext:\\n{Context}\"),\n",
        "    ])\n",
        "\n",
        "chain = prompt | llm"
      ]
    },
    {
      "cell_type": "markdown",
      "source": [
        "# Query ArXiv for Papers"
      ],
      "metadata": {
        "id": "XjOeSBCGvqWr"
      }
    },
    {
      "cell_type": "markdown",
      "source": [
        "We use a given author's name to pull at max {max_results} number of papers from ArXiv using their API"
      ],
      "metadata": {
        "id": "_2GUPo4Mvwrn"
      }
    },
    {
      "cell_type": "code",
      "execution_count": 3,
      "metadata": {
        "id": "b7tgXVPG6obF"
      },
      "outputs": [],
      "source": [
        "# Query parameters\n",
        "full_name = 'Christopher N. Pope'\n",
        "\n",
        "alias = \"C. N. Pope\"\n",
        "category = 'hep-th'\n",
        "\n",
        "names = [full_name, alias]\n",
        "\n",
        "base_url = 'http://export.arxiv.org/api/query?'\n",
        "max_results=1000\n",
        "\n",
        "search_query = f'au:{\"+\".join(full_name.split())}+AND+cat:{category}&sortBy=submittedDate&sortOrder=descending'\n",
        "\n",
        "# Query\n",
        "query = 'search_query=%s&max_results=%i' % (search_query,max_results)\n",
        "\n",
        "data = urllib.request.urlopen(base_url+query)\n",
        "feed = feedparser.parse(data.read().decode('utf-8'))"
      ]
    },
    {
      "cell_type": "markdown",
      "source": [
        "### Removing queries that don't contain the Name or Alias"
      ],
      "metadata": {
        "id": "8xIYrmDBwGLy"
      }
    },
    {
      "cell_type": "code",
      "execution_count": 4,
      "metadata": {
        "id": "EQl8OBzD6obG"
      },
      "outputs": [],
      "source": [
        "output = []\n",
        "\n",
        "# Select and record relevant information for each entry, if the query author is among the authors of the entry\n",
        "for paper in feed.entries:\n",
        "    paper_info = {\n",
        "        'id' : paper.id.split('/abs/')[-1],\n",
        "        'published' : paper.published,\n",
        "        'authors' : [aut['name'] for aut in paper.authors],\n",
        "        'title': paper.title,\n",
        "        'summary': paper.summary\n",
        "        }\n",
        "    if full_name in paper_info['authors'] or alias in paper_info[\"authors\"]:\n",
        "        output.append(paper_info)\n"
      ]
    },
    {
      "cell_type": "markdown",
      "source": [
        "### Print out some of the papers"
      ],
      "metadata": {
        "id": "l_HMx0Whw8f3"
      }
    },
    {
      "cell_type": "code",
      "source": [
        "for papers in output[-5:-1]:\n",
        "    print('\\n'.join(textwrap.wrap(str(papers), 150, break_long_words=False)) + \"\\n\")"
      ],
      "metadata": {
        "colab": {
          "base_uri": "https://localhost:8080/"
        },
        "id": "-o5DdP31--LJ",
        "outputId": "c7b74097-9de7-457d-f139-2a98845f8dde"
      },
      "execution_count": 5,
      "outputs": [
        {
          "output_type": "stream",
          "name": "stdout",
          "text": [
            "{'id': 'hep-th/9112076v1', 'published': '1991-12-31T18:22:14Z', 'authors': ['C. N. Pope'], 'title': 'Lectures on W algebras and W gravity', 'summary':\n",
            "'We give a review of the extended conformal algebras, known as $W$ algebras,\\nwhich contain currents of spins higher than 2 in addition to\n",
            "the\\nenergy-momentum tensor. These include the non-linear $W_N$ algebras; the linear\\n$W_\\\\infty$ and $W_{1+\\\\infty}$ algebras; and their super-\n",
            "extensions. We discuss\\ntheir applications to the construction of $W$-gravity and $W$-string theories.'}\n",
            "\n",
            "{'id': 'hep-th/9112014v1', 'published': '1991-12-06T21:02:55Z', 'authors': ['H. Lu', 'C. N. Pope', 'X. J. Wang', 'K. W. Xu'], 'title': 'N=2\n",
            "Superstrings with (1,2m) Spacetime Signature', 'summary': \"We show that the $N=2$ superstring in $d=2D\\\\ge6$ real dimensions, with\\ncriticality\n",
            "achieved by including background charges in the two real time\\ndirections, exhibits a ``coordinate-freezing'' phenomenon, whereby the momentum\\nin one\n",
            "of the two time directions is constrained to take a specific value for\\neach physical state. This effectively removes this time direction as a\n",
            "physical\\ncoordinate, leaving the theory with $(1,d-2)$ real spacetime signature. Norm\\ncalculations for low-lying physical states suggest that the\n",
            "theory is ghost\\nfree.\"}\n",
            "\n",
            "{'id': 'hep-th/9111002v1', 'published': '1991-11-01T23:41:00Z', 'authors': ['H. Lu', 'C. N. Pope', 'X. J. Wang', 'K. W. Xu'], 'title': 'Anomaly\n",
            "Freedom and Realisations for Super-$W_3$ Strings', 'summary': 'We construct new multi-field realisations of the $N=2$ super-$W_3$ algebra,\\nwhich are\n",
            "important for building super-$W_3$ string theories. We derive the\\nstructure of the ghost vacuum for such theories, and use the result to\\ncalculate\n",
            "the intercepts. These results determine the conditions for physical\\nstates in the super-$W_3$ string theory.'}\n",
            "\n",
            "{'id': 'hep-th/9110033v1', 'published': '1991-10-13T22:34:00Z', 'authors': ['C. N. Pope'], 'title': 'Anomaly-free $W$-gravity Theories', 'summary':\n",
            "'We give a review of some recent developments in the quantisation of\\n$W$-gravity theories. In particular, we discuss the construction of\\nanomaly-\n",
            "free $W_\\\\infty$ and $W_3$ gravities.'}\n",
            "\n"
          ]
        }
      ]
    },
    {
      "cell_type": "markdown",
      "source": [
        "### Restricting number of papers"
      ],
      "metadata": {
        "id": "0LvdVzmkx2V2"
      }
    },
    {
      "cell_type": "markdown",
      "source": [
        "If the number of papers is greater than 100, we skip some papers in order to bring the number of papers below 100. This is because gemini-1.5-pro does not allow more than 32,000 tokens as input per minute for free-tier. So we need to decrease the number of papers.\n"
      ],
      "metadata": {
        "id": "o5eMIYXxx7Mt"
      }
    },
    {
      "cell_type": "code",
      "source": [
        "if len(output) > 100:\n",
        "    skip_size = math.ceil(len(output) / 100)\n",
        "    output_used = output[::skip_size]\n",
        "else:\n",
        "    output_used = output\n",
        "\n",
        "print(f\"Total number of papers: {len(output)}\\nNumber of papers used: {len(output_used)}\")\n",
        "\n",
        "output_str =  \"\".join([str(dic)+\"\\n\\n\" for dic in output_used])"
      ],
      "metadata": {
        "colab": {
          "base_uri": "https://localhost:8080/"
        },
        "id": "Fl-450B_dT9c",
        "outputId": "621a8263-4230-4948-d487-893dccf711a5"
      },
      "execution_count": null,
      "outputs": [
        {
          "output_type": "stream",
          "name": "stdout",
          "text": [
            "Total number of papers: 296\n",
            "Number of papers used: 99\n"
          ]
        }
      ]
    },
    {
      "cell_type": "markdown",
      "source": [
        "# Getting the Career Summary of the Author"
      ],
      "metadata": {
        "id": "7YuUJ5RBy6s9"
      }
    },
    {
      "cell_type": "markdown",
      "source": [
        "We now invoke the langchain chain we previously created and pass the author's name as well as the papers (id, date of publish, authors (names), title, and summary). The model then returns a summary of the author's career so far and what topics he/she has been interested in as the years pass."
      ],
      "metadata": {
        "id": "Zth3NalezF2m"
      }
    },
    {
      "cell_type": "code",
      "source": [
        "llm_result = chain.invoke({\"Prompt\": f\"Can you tell me about the the interests of {full_name} ({alias}).\", \"Context\": output_str})\n",
        "print(\"\\n\".join(f\"{key} = {llm_result.usage_metadata[key]}\" for key in llm_result.usage_metadata.keys()))"
      ],
      "metadata": {
        "colab": {
          "base_uri": "https://localhost:8080/"
        },
        "id": "xx_QzuQPMmCs",
        "outputId": "c20be059-ca7a-4905-8b5a-3f1f845a14b2"
      },
      "execution_count": null,
      "outputs": [
        {
          "output_type": "stream",
          "name": "stdout",
          "text": [
            "input_tokens = 30242\n",
            "output_tokens = 2042\n",
            "total_tokens = 32284\n",
            "input_token_details = {'cache_read': 0}\n"
          ]
        }
      ]
    },
    {
      "cell_type": "code",
      "source": [
        "from IPython.display import Markdown, display\n",
        "display(Markdown(llm_result.content))"
      ],
      "metadata": {
        "colab": {
          "base_uri": "https://localhost:8080/",
          "height": 1000
        },
        "id": "K5cjK3ssIm_8",
        "outputId": "335baf2f-a435-45ac-9904-bd34026bed8d"
      },
      "execution_count": null,
      "outputs": [
        {
          "output_type": "display_data",
          "data": {
            "text/plain": [
              "<IPython.core.display.Markdown object>"
            ],
            "text/markdown": "Christopher N. Pope's research interests have evolved over time, starting with a focus on W-strings and W-gravity in the early 1990s, then shifting towards supergravity, string theory, M-theory, and black hole physics.\n\nInitially, Pope's work centered on W-algebras and their applications to string theory and gravity [29, 30, 31, 32, 33, 34]. He investigated the physical spectra, interactions, and BRST operators of W-strings, exploring higher-spin generalizations of string theory.\n\nBy the mid-1990s, his focus shifted towards supergravity, string theory, and M-theory. He explored p-brane solutions, their classification, and their relation to cosmology [25, 26, 27, 28]. He also investigated discrete states in W-strings and their connection to minimal models.\n\nFrom the late 1990s onwards, Pope's research predominantly explored supergravity, black holes, and related topics. He worked on embedding AdS black holes in higher dimensions [21], consistent sphere reductions of supergravity theories [19, 20, 22, 23], and the construction of new Einstein-Sasaki metrics [17, 18]. He also investigated the thermodynamics of black holes, supersymmetric limits, and topological solitons [16].\n\nIn the 2000s, Pope continued his work on black holes, supergravity, and string theory, studying topics such as AdS/CFT correspondence [15], consistent warped-space Kaluza-Klein reductions [13], and brane-world Kaluza-Klein reductions [12]. He also explored metrics with vanishing quantum corrections [9], time-dependent multi-center solutions [8], and Bohm and Einstein-Sasaki metrics [6].\n\nMore recently, Pope's research has delved into topics such as consistent truncations and dualities [3], generalized dualities and supergroups [2], and perturbations of black holes in Einstein-Maxwell-Dilaton theories [1]. He has also investigated the tower of subleading dual BMS charges [5] and the mass of dyonic black holes and entropy super-additivity [4].  His work demonstrates a consistent exploration of the interplay between gravity, string theory, and M-theory, with a particular emphasis on black hole physics and related mathematical structures.\n\n**References**\n\n[1] C. N. Pope, D. O. Rohrer, and B. F. Whiting. *On The Perturbations of Gibbons-Maeda Black Holes in Einstein-Maxwell-Dilaton Theories*. 2024.\n\n[2] Daniel Butter, Falk Hassler, Christopher N. Pope, and Haoyu Zhang. *Generalized Dualities and Supergroups*. 2023.\n\n[3] Daniel Butter, Falk Hassler, Christopher N. Pope, and Haoyu Zhang. *Consistent Truncations and Dualities*. 2022.\n\n[4] Wei-Jian Geng, Blake Giant, H. Lu, and C. N. Pope. *Mass of Dyonic Black Holes and Entropy Super-Additivity*. 2018.\n\n[5] Hadi Godazgar, Mahdi Godazgar, and C. N. Pope. *Tower of subleading dual BMS charges*. 2018.\n\n[6] G. W. Gibbons, S. A. Hartnoll, and C. N. Pope. *Bohm and Einstein-Sasaki Metrics, Black Holes and Cosmological Event Horizons*. 2002.\n\n[7] S. Cremonini, M. Cvetic, C. N. Pope, and A. Saha. *Long-Range Forces Between Non-Identical Black Holes With Non-BPS Extremal Limits*. 2022.\n\n[8] G. W. Gibbons and C. N. Pope. *Time-Dependent Multi-Centre Solutions from New Metrics with Holonomy Sim(n-2)*. 2007.\n\n[9] A. A. Coley, G. W. Gibbons, S. Hervik, and C. N. Pope. *Metrics With Vanishing Quantum Corrections*. 2008.\n\n[10] M. Cvetic, Xing-Hui Feng, H. Lu, and C. N. Pope. *Rotating Solutions in Critical Lovelock Gravities*. 2016.\n\n[11] Arash Azizi, Hadi Godazgar, Mahdi Godazgar, and C. N. Pope. *The Embedding of Gauged STU Supergravity in Eleven Dimensions*. 2016.\n\n[12] M. Cvetic, H. Lu, C. N. Pope, and T. A Tran. *S^3 and S^4 Reductions of Type IIA Supergravity*. 2000.\n\n[13] M. Cvetic, H. Lu, and C. N. Pope. *Consistent Warped-Space Kaluza-Klein Reductions, Half-Maximal Gauged Supergravities and CP^n Constructions*. 2000.\n\n[14] M. Cvetic, G. W. Gibbons, H. Lu, and C. N. Pope. *Rotating Black Holes in Gauged Supergravities; Thermodynamics, Supersymmetric Limits, Topological Solitons and Time Machines*. 2005.\n\n[15] G. W. Gibbons and C. N. Pope. *Kohn's Theorem, Larmor's Equivalence Principle and the Newton-Hooke Group*. 2010.\n\n[16] M. Cvetic, G. W. Gibbons, H. Lu, and C. N. Pope. *New Einstein-Sasaki and Einstein Spaces from Kerr-de Sitter*. 2005.\n\n[17] M. Cvetic, H. Lu, Don N. Page, and C. N. Pope. *New Einstein-Sasaki Spaces from Kerr-de Sitter*. 2005.\n\n[18] H. Lu, C. N. Pope, and J. F. Vazquez-Poritz. *A New Construction of Einstein-Sasaki Metrics in D >= 7*. 2005.\n\n[19] M. Cvetic, H. Lu, C. N. Pope, and K. S. Stelle. *Spherically Symmetric Solutions in Higher-Derivative Gravity*. 2015.\n\n[20] H. Lu, C. N. Pope, and Zhao-Long Wang. *Pseudo-supersymmetry, Consistent Sphere Reduction and Killing Spinors for the Bosonic String*. 2011.\n\n[21] M. Cvetic, M. J. Duff, P. Hoxha, James T. Liu, H. Lu, J. X. Lu, R. Martinez-Acosta, C. N. Pope, H. Sati, and T. A. Tran. *Embedding AdS Black Holes in Ten and Eleven Dimensions*. 1999.\n\n[22] H. Lu and C. N. Pope. *Exact Embedding of N=1, D=7 Gauged Supergravity in D=11*. 1999.\n\n[23] H. Lu, C. N. Pope, and T. A. Tran. *Five-dimensional N=4, SU(2) X U(1) Gauged Supergravity from Type IIB*. 1999.\n\n[24] M. Cvetic, G. W. Gibbons, H. Lu, and C. N. Pope. *Consistent SO(6) Reduction Of Type IIB Supergravity on S^5*. 2000.\n\n[25] H. Lu, C. N. Pope, and J. Rahmfeld. *A Construction of Killing Spinors on S^n*. 1998.\n\n[26] H. Lu and C. N. Pope. *p-brane Taxonomy*. 1997.\n\n[27] H. Lu, S. Mukherji, and C. N. Pope. *From p-branes to Cosmology*. 1996.\n\n[28] H. Lu and C. N. Pope. *SL(N+1,R) Toda Solitons in Supergravities*. 1996.\n\n[29] C. N. Pope. *W-Strings 93*. 1993.\n\n[30] H. Lu, C. N. Pope, and X. J. Wang. *On Higher-spin Generalisations of String Theory*. 1993.\n\n[31] H. Lu, C. N. Pope, S. Schrans, and X. J. Wang. *The Interacting $W_3$ String*. 1992.\n\n[32] C. N. Pope, E. Sezgin, K. S. Stelle, and X. J. Wang. *Discrete States in the $W_3$ String*. 1992.\n\n[33] C. N. Pope. *Review of W Strings*. 1992.\n\n[34] H. Lu, C. N. Pope, S. Schrans, and X. J. Wang. *On Sibling and Exceptional W Strings*. 1992.\n\n\n"
          },
          "metadata": {}
        }
      ]
    },
    {
      "cell_type": "code",
      "source": [],
      "metadata": {
        "id": "BKnLzJdsdgjE"
      },
      "execution_count": null,
      "outputs": []
    }
  ],
  "metadata": {
    "kernelspec": {
      "display_name": "arXiv",
      "language": "python",
      "name": "python3"
    },
    "language_info": {
      "codemirror_mode": {
        "name": "ipython",
        "version": 3
      },
      "file_extension": ".py",
      "mimetype": "text/x-python",
      "name": "python",
      "nbconvert_exporter": "python",
      "pygments_lexer": "ipython3",
      "version": "3.12.3"
    },
    "colab": {
      "provenance": [],
      "include_colab_link": true
    }
  },
  "nbformat": 4,
  "nbformat_minor": 0
}