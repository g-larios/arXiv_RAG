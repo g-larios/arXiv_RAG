{
  "nbformat": 4,
  "nbformat_minor": 0,
  "metadata": {
    "colab": {
      "provenance": [],
      "toc_visible": true,
      "include_colab_link": true
    },
    "kernelspec": {
      "name": "python3",
      "display_name": "Python 3"
    },
    "language_info": {
      "name": "python"
    }
  },
  "cells": [
    {
      "cell_type": "markdown",
      "metadata": {
        "id": "view-in-github",
        "colab_type": "text"
      },
      "source": [
        "<a href=\"https://colab.research.google.com/github/g-larios/arXiv_RAG/blob/main/Website_arxiv_summarizer.ipynb\" target=\"_parent\"><img src=\"https://colab.research.google.com/assets/colab-badge.svg\" alt=\"Open In Colab\"/></a>"
      ]
    },
    {
      "cell_type": "markdown",
      "source": [
        "# Query based on author information or date"
      ],
      "metadata": {
        "id": "41bkreAu67JI"
      }
    },
    {
      "cell_type": "markdown",
      "source": [
        "We build a RAG based on Gemini that retrieves information from arXiv.com based on user-provided criteria, and produces a completion summarizing the main topics appearing in the summaries of the retrieved articles.\n",
        "\n",
        "This RAG is deployed through a web application by combining Ngrok and Streamlit."
      ],
      "metadata": {
        "id": "SB6mDnNJCR0S"
      }
    },
    {
      "cell_type": "markdown",
      "source": [
        "## Installing Packages"
      ],
      "metadata": {
        "id": "4wXJgOTq61CN"
      }
    },
    {
      "cell_type": "code",
      "execution_count": 17,
      "metadata": {
        "colab": {
          "base_uri": "https://localhost:8080/"
        },
        "id": "z3AArEqa6vUk",
        "outputId": "e9653e7d-88f3-4ee8-e386-ff2ca2fa5fd0"
      },
      "outputs": [
        {
          "output_type": "stream",
          "name": "stdout",
          "text": [
            "Requirement already satisfied: pyngrok in /usr/local/lib/python3.10/dist-packages (7.2.2)\n",
            "Requirement already satisfied: PyYAML>=5.1 in /usr/local/lib/python3.10/dist-packages (from pyngrok) (6.0.2)\n"
          ]
        }
      ],
      "source": [
        "%pip install -q feedparser\n",
        "\n",
        "%pip install -q langchain\n",
        "%pip install -q langchain-community\n",
        "%pip install -qU google-generativeai\n",
        "%pip install -qU langchain-google-genai\n",
        "\n",
        "%pip install --quiet streamlit\n",
        "%pip install --quiet streamlit_chat\n",
        "\n",
        "%pip install pyngrok"
      ]
    },
    {
      "cell_type": "markdown",
      "source": [
        "## Adding Relavant Keys to the Enviornment"
      ],
      "metadata": {
        "id": "WG1CzY3OXbY1"
      }
    },
    {
      "cell_type": "code",
      "source": [
        "import os\n",
        "import getpass\n",
        "from pyngrok import ngrok, conf\n",
        "\n",
        "os.environ[\"GOOGLE_API_KEY\"] = getpass.getpass(\"Enter your Google AI API key: \")\n",
        "print(\"Enter your authtoken, which can be copied from https://dashboard.ngrok.com/get-started/your-authtoken\")\n",
        "conf.get_default().auth_token = getpass.getpass()"
      ],
      "metadata": {
        "colab": {
          "base_uri": "https://localhost:8080/"
        },
        "id": "h7Bpqaxy7f13",
        "outputId": "2dd68567-c475-46ad-f1a0-089c69d4d12d"
      },
      "execution_count": 29,
      "outputs": [
        {
          "name": "stdout",
          "output_type": "stream",
          "text": [
            "Enter your Google AI API key: ··········\n",
            "Enter your authtoken, which can be copied from https://dashboard.ngrok.com/get-started/your-authtoken\n",
            "··········\n"
          ]
        }
      ]
    },
    {
      "cell_type": "markdown",
      "source": [
        "## arXiv Query + Gemini completion"
      ],
      "metadata": {
        "id": "x3oPmgHO_NBh"
      }
    },
    {
      "cell_type": "markdown",
      "source": [
        "For an author based query, the arXiv API needs\n",
        "\n",
        "- full_name: author's full name. The expected format is 'first name' + 'middle name' + 'surname', separated with spaces and with middle name possibly null.\n",
        "\n",
        "- cat: category in (astro-ph, cond-mat, gr-qc, hep-ex, hep-lat, hep-th,hep-ph, math-ph, nlin, nucl-ex, nucl-th, physics, quant-ph, math, CoRR, q-bio, q-fin, stat, eess, econ). See https://arxiv.org/category_taxonomy for details"
      ],
      "metadata": {
        "id": "cWTBHgguCP_T"
      }
    },
    {
      "cell_type": "markdown",
      "source": [
        "### Set up the LLM Model and Langchain Chain\n",
        "Here we will use Gemini model to do our inference and use langchain to create a small prompt pipeline."
      ],
      "metadata": {
        "id": "jc9ablPy7t7l"
      }
    },
    {
      "cell_type": "code",
      "source": [
        "%%writefile StreamlitApp.py\n",
        "import urllib, urllib.request\n",
        "import feedparser\n",
        "import math\n",
        "import datetime\n",
        "from dateutil.relativedelta import relativedelta\n",
        "\n",
        "from langchain_google_genai import ChatGoogleGenerativeAI\n",
        "from langchain.prompts import ChatPromptTemplate\n",
        "\n",
        "llm = ChatGoogleGenerativeAI(\n",
        "    model=\"gemini-1.5-flash\",\n",
        "    temperature=0,\n",
        "    max_tokens=50000,\n",
        "    timeout=None,\n",
        "    max_retries=5,\n",
        "    # other params..\n",
        ")\n",
        "\n",
        "# Prompt for Author Queries\n",
        "prompt_author = ChatPromptTemplate.from_messages([\n",
        "    (\"system\",\n",
        "    \"You are an analyst that specializes in understanding the topic of interest of a given author.\"\n",
        "    \"You are given a set of papers and you are to give a report on the main topics. The information is in a .json file format. \"\n",
        "    \"The information contains the id of the paper, the date it was published, list of authors, and a summary of the paper. \"\n",
        "    \"Create a citation of papers with proper bibliography to support the topics you state. \"\n",
        "    \"Put the references at the end of your report sorted in descending date of publication, and use numbers to cite through the body. \"\n",
        "    \"Include in the references only the papers you cite through the body and include all papers cited in the bibliography. \"\n",
        "    \"Do not summarise the author's papers. \"\n",
        "    \"Give an in-depth summary of the topics but keep it concise. \"\n",
        "    \"Focus only on the author the user asked about and disregard any papers that do not contain that author's name.\"),\n",
        "\n",
        "    (\"user\", \"{Prompt}\\nContext:\\n{Context}\"),\n",
        "    ])\n",
        "\n",
        "# Prompt for Date Queries\n",
        "prompt_date = ChatPromptTemplate.from_messages([\n",
        "    (\"system\",\n",
        "    \"You are an analyst specializing in identifying the main topics of interest during a given time period. \"\n",
        "    \"You are given a set of papers and you are to give a report on the main topics. The information is in a .json file format. \"\n",
        "    \"The information includes the id of the paper, the date it was published, the list of authors, and a summary of the paper. \"\n",
        "    \"Your task is to determine the primary topics of interest during the specified time period based on the given data. \"\n",
        "    \"Create a citation of papers with proper bibliography to support the topics you state. \"\n",
        "    \"Restrict the number of references to 20. \"\n",
        "    \"Put the references at the end of your report sorted in descending date of publication, and use numbers to cite through the body. \"\n",
        "    \"Include in the references only the papers you cite through the body and include all papers cited in the bibliography. \"\n",
        "    \"Do not summarize individual papers but focus on identifying and describing the key topics of interest during the given period. \"\n",
        "    \"Give an in-depth summary of the topics but keep it concise. \"\n",
        "    \"Ignore any papers published outside the specified date range.\"),\n",
        "    (\"user\", \"{Prompt}\\nContext:\\n{Context}\"),\n",
        "    ])\n",
        "\n",
        "# Simple author and date chains\n",
        "chain_author = prompt_author | llm\n",
        "chain_date = prompt_date | llm"
      ],
      "metadata": {
        "colab": {
          "base_uri": "https://localhost:8080/"
        },
        "id": "Tq4KWyc17yrj",
        "outputId": "05dd4de8-c82a-4033-8f79-863bc0c0986b"
      },
      "execution_count": 19,
      "outputs": [
        {
          "output_type": "stream",
          "name": "stdout",
          "text": [
            "Overwriting StreamlitApp.py\n"
          ]
        }
      ]
    },
    {
      "cell_type": "markdown",
      "source": [
        "### ArXiv Query"
      ],
      "metadata": {
        "id": "qk9UtyO7Frke"
      }
    },
    {
      "cell_type": "markdown",
      "source": [
        "#### Author"
      ],
      "metadata": {
        "id": "2v5NaO6iYMzS"
      }
    },
    {
      "cell_type": "code",
      "source": [
        "%%writefile -a StreamlitApp.py\n",
        "def get_arxiv_docs_author(full_name, category):\n",
        "    \"\"\"\n",
        "    This function calls the ArXiv API and retrives relavent papers, appeneds the json information\n",
        "    (which contains the abstract) together in to a single string.\n",
        "\n",
        "    Parameters:\n",
        "        full_name: author's full name. Ex. Christopher N. Pope\n",
        "        category: ArXiv category from which the papers are retrieved. Ex. hep-th\n",
        "\n",
        "    Return:\n",
        "        output_str: String containing the paper id, publishing date,\n",
        "                    author names, title and abstract of the papers.\n",
        "    \"\"\"\n",
        "\n",
        "    base_url = 'http://export.arxiv.org/api/query?'\n",
        "    max_results=1000\n",
        "\n",
        "    search_query = f'au:{\"+\".join(full_name.split())}+AND+cat:{category}&sortBy=submittedDate&sortOrder=descending'\n",
        "    query = 'search_query=%s&max_results=%i' % (search_query,max_results)\n",
        "\n",
        "    data = urllib.request.urlopen(base_url+query)\n",
        "    feed = feedparser.parse(data.read().decode('utf-8'))\n",
        "\n",
        "    output = []\n",
        "\n",
        "    # Select and record relevant information for each entry, if the query author is among the authors of the entry\n",
        "    for paper in feed.entries:\n",
        "        paper_info = {\n",
        "            'id' : paper.id.split('/abs/')[-1],\n",
        "            'published' : paper.published,\n",
        "            'authors' : [aut['name'] for aut in paper.authors],\n",
        "            'title': paper.title,\n",
        "            'summary': paper.summary\n",
        "            }\n",
        "        if full_name in paper_info['authors']: # or alias in paper_info[\"authors\"]:\n",
        "            output.append(paper_info)\n",
        "\n",
        "    # Limit the number of papers used to 100 (important for when\n",
        "    # using gemini-1.5-pro on a free account) to limit the number of tokens used.\n",
        "    if len(output) > 100:\n",
        "        skip_size = math.ceil(len(output) / 100)\n",
        "        output_used = output[::skip_size]\n",
        "    else:\n",
        "        output_used = output\n",
        "\n",
        "    output_str =  \"\".join([str(dic)+\"\\n\\n\" for dic in output_used])\n",
        "    return output_str"
      ],
      "metadata": {
        "colab": {
          "base_uri": "https://localhost:8080/"
        },
        "id": "MlSjZTAL8WOU",
        "outputId": "cf785301-8732-4954-84b4-ce8d2262786b"
      },
      "execution_count": 20,
      "outputs": [
        {
          "output_type": "stream",
          "name": "stdout",
          "text": [
            "Appending to StreamlitApp.py\n"
          ]
        }
      ]
    },
    {
      "cell_type": "markdown",
      "source": [
        "#### Date"
      ],
      "metadata": {
        "id": "ogOCe9WtYYEX"
      }
    },
    {
      "cell_type": "code",
      "source": [
        "%%writefile -a StreamlitApp.py\n",
        "def get_arxiv_docs_date(start, end, category):\n",
        "    \"\"\"\n",
        "    This function calls the ArXiv API and retrives relavent papers, appeneds the json information\n",
        "    (which contains the abstract) together in to a single string.\n",
        "\n",
        "    Parameters:\n",
        "        start: start date of the date range.\n",
        "        end: end date of the date range.\n",
        "        category: ArXiv category from which the papers are retrieved.\n",
        "\n",
        "    Return:\n",
        "        output_str: String containing the paper id, publishing date,\n",
        "                    author names, title and abstract of the papers.\n",
        "    \"\"\"\n",
        "\n",
        "    base_url = 'http://export.arxiv.org/api/query?'\n",
        "\n",
        "    max_results=1000\n",
        "\n",
        "    start = start.replace('-','')\n",
        "    end = end.replace('-','')\n",
        "\n",
        "    search_query = f'cat:{category}+AND+submittedDate:[{start}0000+TO+{end}2359]'\n",
        "    query = 'search_query=%s&start=%i&max_results=%i' % (search_query, 0, max_results)\n",
        "\n",
        "    data = urllib.request.urlopen(base_url+query)\n",
        "    feed = feedparser.parse(data.read().decode('utf-8'))\n",
        "\n",
        "    output = [ {'id' : paper.id.split('/abs/')[-1],\n",
        "            'published' : paper.published,\n",
        "            'authors' : [aut['name'] for aut in paper.authors],\n",
        "            'title': paper.title,\n",
        "            'summary': paper.summary}\n",
        "            for paper in feed.entries]\n",
        "\n",
        "    # Limit the number of papers used to 100 (important for when\n",
        "    # using gemini-1.5-pro on a free account) to limit the number of tokens used.\n",
        "    if len(output) > 100:\n",
        "        skip_size = math.ceil(len(output) / 100)\n",
        "        output_used = output[::skip_size]\n",
        "    else:\n",
        "        output_used = output\n",
        "\n",
        "    output_str =  \"\".join([str(dic)+\"\\n\\n\" for dic in output_used])\n",
        "    return output_str"
      ],
      "metadata": {
        "colab": {
          "base_uri": "https://localhost:8080/"
        },
        "id": "bJROmAOG80cf",
        "outputId": "974cd219-957d-42f8-dfba-c08bbd08a98f"
      },
      "execution_count": 21,
      "outputs": [
        {
          "output_type": "stream",
          "name": "stdout",
          "text": [
            "Appending to StreamlitApp.py\n"
          ]
        }
      ]
    },
    {
      "cell_type": "markdown",
      "source": [
        "## How-to information"
      ],
      "metadata": {
        "id": "elHN2tdKG-Pb"
      }
    },
    {
      "cell_type": "code",
      "source": [
        "%%writefile -a StreamlitApp.py\n",
        "how_to_text_author = \"\"\"\n",
        "## **What is arXiv Author Summarizer?**\n",
        "This application is useful for quickly understanding the research interests of an author based on their publications indexed in the arXiv.\n",
        "\n",
        "Based on your input, this app sends a query to the arXiv API that retrieves the publications by the given author in the category chosen.\n",
        "The summaries of these papers are fed into the Gemini LLM, which produces a summary of the main topics identified with references to the papers mentioning each topic.\n",
        "\n",
        "\n",
        "**Disclaimers:**\n",
        "1. This application can make mistakes. Please check the references provided\n",
        "2. The arXiv query might fail, among other reasons, if the author's name contains non-ascii characters.\n",
        "\n",
        "\n",
        "---\n",
        "\n",
        "## **How to Use the arXiv Author Summarizer**\n",
        "1. **Enter Author Name**:\n",
        "   - Start by typing the FULL NAME of the author you want to focus on in the \"Author Name\" input field.\n",
        "\n",
        "2. **Select Area of Expertise**:\n",
        "   - Choose the broad field the author works in from the dropdown menu labeled **\"What area does this scholar work in?\"**\n",
        "     Options include:\n",
        "     - **Computer Science**\n",
        "     - **Mathematics**\n",
        "     - **Physics**\n",
        "     - **Other**\n",
        "\n",
        "3. **Choose a Specific Category**:\n",
        "   - Based on the area of expertise selected, a second dropdown menu labeled **\"Category\"** will appear with a list of specific categories (e.g., `cs.AI`, `math.AG`, or `cond-mat.dis-nn`).\n",
        "   - Select the most relevant category.\n",
        "   - If none of the options fit, you can choose **\"other,\"** which will prompt you to manually input a category ID.\n",
        "   - You can explore the [arXiv taxonomy](https://arxiv.org/category_taxonomy) for this choice.\n",
        "\n",
        "4. **Click \"Summarize!\"**:\n",
        "   - Once you've provided the necessary inputs, click the **Summarize!** button.\n",
        "   - The application will retrieve relevant documents from arXiv and generate a detailed summary of the author's research including references.\n",
        "\n",
        "5. **View the Output**:\n",
        "   - The text generated will appear on the right side of the application.\n",
        "\"\"\""
      ],
      "metadata": {
        "colab": {
          "base_uri": "https://localhost:8080/"
        },
        "id": "lVLTIStJHR7A",
        "outputId": "2526eaac-f9d7-4da9-9e23-776c62312b32"
      },
      "execution_count": 22,
      "outputs": [
        {
          "output_type": "stream",
          "name": "stdout",
          "text": [
            "Appending to StreamlitApp.py\n"
          ]
        }
      ]
    },
    {
      "cell_type": "code",
      "source": [
        "%%writefile -a StreamlitApp.py\n",
        "how_to_text_date = \"\"\"\n",
        "## **What is the arXiv Date Range Summarizer?**\n",
        "\n",
        "This application is useful for quickly identifying the topics of interest and significant trends in the research papers published on arXiv within a specific date range.\n",
        "\n",
        "Based on your input, this app sends a query to the arXiv API that retrieves the publications in the given category and time period.\n",
        "The summaries of these papers are fed into the Gemini LLM, which produces a summary of the main topics identified with references to the papers mentioning each topic.\n",
        "\n",
        "\n",
        "**Disclaimers:**\n",
        "1. This application can make mistakes. Please check the references provided\n",
        "\n",
        "---\n",
        "\n",
        "## **How to Use the arXiv Date Range Summarizer**\n",
        "\n",
        "1. **Specify Date Range**:\n",
        "   - Start by entering the **Start Date** and **End Date** in the respective input fields to define the time period you want to analyze. The end date can not be more than a month apart.\n",
        "\n",
        "2. **Select Area of Interest**:\n",
        "   - Choose the broad field of research you want to focus on from the dropdown menu labeled **\"What area does this research focus on?\"**\n",
        "     Options include:\n",
        "     - **Computer Science**\n",
        "     - **Mathematics**\n",
        "     - **Physics**\n",
        "     - **Other**\n",
        "\n",
        "3. **Choose a Specific Category**:\n",
        "   - Based on the area of expertise selected, a second dropdown menu labeled **\"Category\"** will appear with a list of specific categories (e.g., `cs.AI`, `math.AG`, or `cond-mat.dis-nn`).\n",
        "   - Select the most relevant category.\n",
        "   - If none of the options fit, you can choose **\"other,\"** which will prompt you to manually input a category ID.\n",
        "   - You can explore the [arXiv taxonomy](https://arxiv.org/category_taxonomy) for this choice.\n",
        "\n",
        "4. **Click \"Summarize!\"**:\n",
        "   - Once you've provided the necessary inputs, click the **Summarize!** button.\n",
        "   - The application will retrieve relevant documents from arXiv published within the specified time period and generate a summary of the main topics identified including references.\n",
        "\n",
        "5. **View the Output**:\n",
        "   - The text generated will appear on the right side of the application.\n",
        "   \"\"\"\n"
      ],
      "metadata": {
        "colab": {
          "base_uri": "https://localhost:8080/"
        },
        "id": "gih7H0bQ9BNH",
        "outputId": "13a6c831-5416-4c19-d090-5c81938197c4"
      },
      "execution_count": 23,
      "outputs": [
        {
          "output_type": "stream",
          "name": "stdout",
          "text": [
            "Appending to StreamlitApp.py\n"
          ]
        }
      ]
    },
    {
      "cell_type": "markdown",
      "source": [
        "## StreamLit App and Ngrok tunneling"
      ],
      "metadata": {
        "id": "RGOqddvo9GhA"
      }
    },
    {
      "cell_type": "code",
      "source": [
        "%%writefile -a StreamlitApp.py\n",
        "import streamlit as st\n",
        "st.set_page_config(page_title=\"arXiv Topics Summarizer\")\n",
        "st.title(\"arXiv Topics Summarizer\")\n",
        "\n",
        "# Create two tabs for the two types of queries.\n",
        "tab1, tab2 = st.tabs([\"Author\", \"Date\"])\n",
        "\n",
        "# Helper function to generate a drop down menu to select a ArXiv category\n",
        "def show_categories(group, key):\n",
        "    \"\"\"\n",
        "    This function creates a drop down box based on the group chosen in\n",
        "    the previous drop down box.\n",
        "\n",
        "    Parameters:\n",
        "        group: The group chosen in the previous drop down box.\n",
        "        key: \"auth\" or \"date\" to keep the drop down boxes separate for the two tabs.\n",
        "\n",
        "    Return:\n",
        "        category: The category selected in the drop down box.\n",
        "    \"\"\"\n",
        "\n",
        "    # The key helps keep different selectboxes for the two tabs\n",
        "    used_key = \"cat\"+key\n",
        "    match group:\n",
        "        case \"Computer Science\":\n",
        "            category = st.selectbox(\"Category you wish to focus on: \",\n",
        "            (\"cs.AI\", \"cs.IT\", \"cs.LG\", \"cs.NA\", \"other\"), key=used_key)\n",
        "        case \"Mathematics\":\n",
        "            category = st.selectbox(\"Category you wish to focus on: \",\n",
        "            (\"math.AG\", \"math.A\", \"math.CT\", \"math.KT\", \"math.MP\", \"math.QA\", \"math.RT\", \"math.SG\", \"math.SP\", \"other\"), key=used_key)\n",
        "        case \"Physics\":\n",
        "            category = st.selectbox(\"Category you wish to focus on: \",\n",
        "            (\"cond-mat.dis-nn\", \"cond-mat.mes-hall\", \"cond-mat.supr-con\", \"cond-mat.stat-mech\", \"hep-ex\", \"hep-th\", \"math-ph\", \"other\"), key=used_key)\n",
        "        case \"Other\":\n",
        "            category = st.text_input(\"Please enter the category ID: \", \"hep-th\")\n",
        "    return category"
      ],
      "metadata": {
        "colab": {
          "base_uri": "https://localhost:8080/"
        },
        "id": "xv2TtTqD9Igx",
        "outputId": "914945ca-2b7d-4ce9-f3f7-b92d7bdc1126"
      },
      "execution_count": 24,
      "outputs": [
        {
          "output_type": "stream",
          "name": "stdout",
          "text": [
            "Appending to StreamlitApp.py\n"
          ]
        }
      ]
    },
    {
      "cell_type": "markdown",
      "source": [
        "### Tab 1: Author"
      ],
      "metadata": {
        "id": "6Y0Gh0NeYaLL"
      }
    },
    {
      "cell_type": "code",
      "source": [
        "%%writefile -a StreamlitApp.py\n",
        "with tab1:\n",
        "    # Create two columns. Left has text input for author's name and drop down to select the category.\n",
        "    # Right column has the generated response.\n",
        "    col1, col2 = st.columns([5, 8])\n",
        "\n",
        "    with col1:\n",
        "        # Author selection\n",
        "        st.session_state.author_name = st.text_input(\"Author Name\", \"Name\")\n",
        "        st.write(\"[Try to reproduce the way in which the author signs (e.g. Joe Doe vs J. N. Doe)]\")\n",
        "\n",
        "        st.write(\"\\nSelect a category which you wish to focus on following the [arXiv taxonomy](https://arxiv.org/category_taxonomy)\")\n",
        "\n",
        "        # Area selection\n",
        "        group_auth = st.selectbox(\"What area does this scholar work in?\",\n",
        "                            (\"Computer Science\", \"Mathematics\", \"Physics\", \"Other\"),\n",
        "                            key=\"group_auth\", placeholder = \"---\")\n",
        "\n",
        "        # Category selection\n",
        "        st.session_state.category_1 = show_categories(group_auth, \"auth\")\n",
        "\n",
        "        # If the category is \"other\" create a text_input to manually enter the category\n",
        "        if st.session_state.category_1 == \"other\":\n",
        "            st.session_state.category_1 = st.text_input(\"Please enter the category ID: \", \"hep-th\")\n",
        "\n",
        "        # Text generation\n",
        "        if submitted:= st.button(\"Summarize!\", key= \"author_summarize\"):\n",
        "            # Once the submit button is pressed retrieve context and generate response.\n",
        "            context = get_arxiv_docs_author(st.session_state.author_name, st.session_state.category_1)\n",
        "            st.session_state.llm_result_author = chain_author.stream({\"Prompt\": f\"Can you tell me about the interests of {st.session_state.author_name}.\"\n",
        "                                                        , \"Context\": context})\n",
        "            with col2:\n",
        "                # Stream out the response in the right column\n",
        "                aut_tit = (f\"## {st.session_state.author_name} \\n\\n\")\n",
        "                st.write(aut_tit)\n",
        "                sum_res = st.write_stream(st.session_state.llm_result_author)\n",
        "                # Store the final output\n",
        "                st.session_state[\"res_auth\"] = aut_tit + sum_res\n",
        "                st.write(\"\"\"\\n`Developed by A. Chaudhary, G. Larios and A. Sengupta`\"\"\")\n",
        "\n",
        "        else:\n",
        "            # If just the options are being tinkered reprint the old output.\n",
        "            if st.session_state.get(\"res_auth\"):\n",
        "                with col2:\n",
        "                    st.write(st.session_state[\"res_auth\"])\n",
        "                    st.write(\"\"\"\\n`Developed by A. Chaudhary, G. Larios and A. Sengupta`\"\"\")\n",
        "            # If there is no previous response (new run), print out the how to text for author.\n",
        "            else:\n",
        "                with col2:\n",
        "                    st.write(how_to_text_author)\n",
        "                    st.write(\"\"\"\\n`Developed by A. Chaudhary, G. Larios and A. Sengupta`\"\"\")"
      ],
      "metadata": {
        "colab": {
          "base_uri": "https://localhost:8080/"
        },
        "id": "oQtHhH8FYGVR",
        "outputId": "b63c17a5-cbb7-4d0b-a1d2-f84d3389e79d"
      },
      "execution_count": 25,
      "outputs": [
        {
          "output_type": "stream",
          "name": "stdout",
          "text": [
            "Appending to StreamlitApp.py\n"
          ]
        }
      ]
    },
    {
      "cell_type": "markdown",
      "source": [
        "### Tab 2: Date"
      ],
      "metadata": {
        "id": "W9PJ8AaZYcwm"
      }
    },
    {
      "cell_type": "code",
      "source": [
        "%%writefile -a StreamlitApp.py\n",
        "with tab2:\n",
        "    # Create two columns. Left has text input for start and end date, and drop down to select the category.\n",
        "    # Right column has the generated response.\n",
        "    col1, col2 = st.columns([5, 8])\n",
        "\n",
        "    with col1:\n",
        "        # Date selection\n",
        "        st.session_state.start_date = st.date_input(label = \"Start Date\", value=\"today\", format=\"YYYY/MM/DD\")\n",
        "        st.session_state.end_date = st.date_input(label = \"End Date\", value=st.session_state.start_date, min_value=st.session_state.start_date,\n",
        "                                                  max_value=st.session_state.start_date + relativedelta(months=1) , format=\"YYYY/MM/DD\")\n",
        "\n",
        "        st.write(\"Select a category which you wish to focus on following the [arXiv taxonomy](https://arxiv.org/category_taxonomy)\")\n",
        "\n",
        "        # Area selection\n",
        "        group_date = st.selectbox(\"What scientific area are you interested in?\",\n",
        "                            (\"Computer Science\", \"Mathematics\", \"Physics\", \"Other\"),\n",
        "                            key=\"group_date\", placeholder = \"---\")\n",
        "\n",
        "        # Category selection\n",
        "        st.session_state.category_2 = show_categories(group_date, \"date\")\n",
        "\n",
        "        # If the category is \"other\" create a text_input to manually enter the category\n",
        "        if st.session_state.category_2 == \"other\":\n",
        "            st.session_state.category_2 = st.text_input(\"Please enter the category ID: \", \"hep-th\")\n",
        "\n",
        "        # Text generation\n",
        "        if submitted:= st.button(\"Summarize!\", key= \"dates_summarize\"):\n",
        "            # Once the submit button is pressed retrieve context and generate response.\n",
        "            context = get_arxiv_docs_date(str(st.session_state.start_date), str(st.session_state.end_date), st.session_state.category_2)\n",
        "            st.session_state.llm_result_date = chain_date.stream({\"Prompt\": f\"Can you tell me about the interests between \"+str(st.session_state.start_date) + \" to \" + str(st.session_state.end_date)+\".\"\n",
        "                                                        , \"Context\": context})\n",
        "            with col2:\n",
        "                # Stream out the response in the right column\n",
        "                date_tit = \"## Topics identified between \"+str(st.session_state.start_date) + \" and \" + str(st.session_state.end_date)+\"\\n\\n\"\n",
        "                st.write(date_tit)\n",
        "                sum_res = st.write_stream(st.session_state.llm_result_date)\n",
        "                # Store the final output\n",
        "                st.session_state[\"res_date\"] = date_tit + sum_res\n",
        "                st.write(\"\"\"\\n`Developed by A. Chaudhary, G. Larios and A. Sengupta`\"\"\")\n",
        "\n",
        "        else:\n",
        "            # If just the options are being tinkered reprint the old output.\n",
        "            if st.session_state.get(\"res_date\"):\n",
        "                with col2:\n",
        "                    st.write(st.session_state[\"res_date\"])\n",
        "                    st.write(\"\"\"\\n`Developed by A. Chaudhary, G. Larios and A. Sengupta`\"\"\")\n",
        "            # If there is no previous response (new run), print out the how to text for author.\n",
        "            else:\n",
        "                with col2:\n",
        "                    st.write(how_to_text_date)\n",
        "                    st.write(\"\"\"\\n`Developed by A. Chaudhary, G. Larios and A. Sengupta`\"\"\")"
      ],
      "metadata": {
        "colab": {
          "base_uri": "https://localhost:8080/"
        },
        "id": "UgdD5bM39UhU",
        "outputId": "1d3933fd-80d4-43d9-aee7-903fcdf58ce1"
      },
      "execution_count": 26,
      "outputs": [
        {
          "output_type": "stream",
          "name": "stdout",
          "text": [
            "Appending to StreamlitApp.py\n"
          ]
        }
      ]
    },
    {
      "cell_type": "markdown",
      "source": [
        "### Hosting the Webapp using Ngrok"
      ],
      "metadata": {
        "id": "xPZOifoIZ9Q_"
      }
    },
    {
      "cell_type": "code",
      "source": [
        "custom_domain = \"\" # Put the free custom_domain provided by ngrok here\n",
        "\n",
        "# Link port 8501 with the domain\n",
        "public_url = ngrok.connect('8501',  hostname=custom_domain).public_url\n",
        "print(\"Here is your website link:\\n\",public_url)\n"
      ],
      "metadata": {
        "colab": {
          "base_uri": "https://localhost:8080/"
        },
        "id": "p4uDknlw9bhx",
        "outputId": "49821ed7-b905-4494-d17c-c1b9ea6b04e9"
      },
      "execution_count": 27,
      "outputs": [
        {
          "output_type": "stream",
          "name": "stdout",
          "text": [
            "Here is your website link:\n",
            " https://d0dc-34-168-227-171.ngrok-free.app\n"
          ]
        }
      ]
    },
    {
      "cell_type": "code",
      "source": [
        "# Now we simply run the streamlit app on port 8501 and our\n",
        "# webapp is ready to be used!\n",
        "!streamlit run --server.port 8501 StreamlitApp.py >/dev/null"
      ],
      "metadata": {
        "colab": {
          "base_uri": "https://localhost:8080/"
        },
        "id": "58F5JkQJeIHm",
        "outputId": "7eb9a61c-a8a1-4609-83b0-5e2611a2362f"
      },
      "execution_count": 28,
      "outputs": [
        {
          "output_type": "stream",
          "name": "stdout",
          "text": [
            "WARNING: All log messages before absl::InitializeLog() is called are written to STDERR\n",
            "E0000 00:00:1734730556.247681   38346 init.cc:229] grpc_wait_for_shutdown_with_timeout() timed out.\n"
          ]
        }
      ]
    }
  ]
}