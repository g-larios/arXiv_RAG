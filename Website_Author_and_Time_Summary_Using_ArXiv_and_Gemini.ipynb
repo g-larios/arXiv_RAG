{
  "cells": [
    {
      "cell_type": "markdown",
      "metadata": {
        "id": "view-in-github",
        "colab_type": "text"
      },
      "source": [
        "<a href=\"https://colab.research.google.com/github/g-larios/arXiv_RAG/blob/main/Website_Author_and_Time_Summary_Using_ArXiv_and_Gemini.ipynb\" target=\"_parent\"><img src=\"https://colab.research.google.com/assets/colab-badge.svg\" alt=\"Open In Colab\"/></a>"
      ]
    },
    {
      "cell_type": "markdown",
      "metadata": {
        "id": "zkrEi3qe6obB"
      },
      "source": [
        "# Query based on author information or date\n",
        "\n",
        "For an author based query, the arXiv API needs\n",
        "\n",
        "- full_name: author's full name. The expected format is 'first name' + 'middle name' + 'surname', separated with spaces and with middle name possibly null.\n",
        "\n",
        "- cat: category in (astro-ph, cond-mat, gr-qc, hep-ex, hep-lat, hep-th,hep-ph, math-ph, nlin, nucl-ex, nucl-th, physics, quant-ph, math, CoRR, q-bio, q-fin, stat, eess, econ). See https://arxiv.org/category_taxonomy for details"
      ]
    },
    {
      "cell_type": "markdown",
      "source": [
        "# Installing Packages and importing relevant Imports"
      ],
      "metadata": {
        "id": "NYkh8A8vvZr0"
      }
    },
    {
      "cell_type": "code",
      "source": [
        "%pip install -q feedparser\n",
        "\n",
        "%pip install -q langchain\n",
        "%pip install -q langchain-community\n",
        "%pip install -qU google-generativeai\n",
        "%pip install -qU langchain-google-genai\n",
        "\n",
        "%pip install --quiet streamlit\n",
        "%pip install --quiet streamlit_chat\n",
        "\n",
        "%pip install pyngrok"
      ],
      "metadata": {
        "id": "JYJIBT9G7KXb",
        "colab": {
          "base_uri": "https://localhost:8080/"
        },
        "outputId": "de3d05f3-0e98-4994-dea4-ef17dfdfbe55"
      },
      "execution_count": null,
      "outputs": [
        {
          "output_type": "stream",
          "name": "stdout",
          "text": [
            "  Preparing metadata (setup.py) ... \u001b[?25l\u001b[?25hdone\n",
            "\u001b[?25l   \u001b[90m━━━━━━━━━━━━━━━━━━━━━━━━━━━━━━━━━━━━━━━━\u001b[0m \u001b[32m0.0/81.3 kB\u001b[0m \u001b[31m?\u001b[0m eta \u001b[36m-:--:--\u001b[0m\r\u001b[2K   \u001b[91m━━━━━━━━━━━━━━━━━━━━━━━━━━━━━━━━━━━\u001b[0m\u001b[90m╺\u001b[0m\u001b[90m━━━━\u001b[0m \u001b[32m71.7/81.3 kB\u001b[0m \u001b[31m3.0 MB/s\u001b[0m eta \u001b[36m0:00:01\u001b[0m\r\u001b[2K   \u001b[90m━━━━━━━━━━━━━━━━━━━━━━━━━━━━━━━━━━━━━━━━\u001b[0m \u001b[32m81.3/81.3 kB\u001b[0m \u001b[31m763.6 kB/s\u001b[0m eta \u001b[36m0:00:00\u001b[0m\n",
            "\u001b[?25h  Building wheel for sgmllib3k (setup.py) ... \u001b[?25l\u001b[?25hdone\n",
            "\u001b[2K   \u001b[90m━━━━━━━━━━━━━━━━━━━━━━━━━━━━━━━━━━━━━━━━\u001b[0m \u001b[32m2.4/2.4 MB\u001b[0m \u001b[31m21.6 MB/s\u001b[0m eta \u001b[36m0:00:00\u001b[0m\n",
            "\u001b[2K   \u001b[90m━━━━━━━━━━━━━━━━━━━━━━━━━━━━━━━━━━━━━━━━\u001b[0m \u001b[32m3.1/3.1 MB\u001b[0m \u001b[31m51.3 MB/s\u001b[0m eta \u001b[36m0:00:00\u001b[0m\n",
            "\u001b[2K   \u001b[90m━━━━━━━━━━━━━━━━━━━━━━━━━━━━━━━━━━━━━━━━\u001b[0m \u001b[32m49.5/49.5 kB\u001b[0m \u001b[31m2.5 MB/s\u001b[0m eta \u001b[36m0:00:00\u001b[0m\n",
            "\u001b[2K   \u001b[90m━━━━━━━━━━━━━━━━━━━━━━━━━━━━━━━━━━━━━━━━\u001b[0m \u001b[32m41.3/41.3 kB\u001b[0m \u001b[31m1.5 MB/s\u001b[0m eta \u001b[36m0:00:00\u001b[0m\n",
            "\u001b[2K     \u001b[90m━━━━━━━━━━━━━━━━━━━━━━━━━━━━━━━━━━━━━━━━\u001b[0m \u001b[32m44.3/44.3 kB\u001b[0m \u001b[31m1.6 MB/s\u001b[0m eta \u001b[36m0:00:00\u001b[0m\n",
            "\u001b[2K   \u001b[90m━━━━━━━━━━━━━━━━━━━━━━━━━━━━━━━━━━━━━━━━\u001b[0m \u001b[32m8.6/8.6 MB\u001b[0m \u001b[31m59.4 MB/s\u001b[0m eta \u001b[36m0:00:00\u001b[0m\n",
            "\u001b[2K   \u001b[90m━━━━━━━━━━━━━━━━━━━━━━━━━━━━━━━━━━━━━━━━\u001b[0m \u001b[32m6.9/6.9 MB\u001b[0m \u001b[31m89.1 MB/s\u001b[0m eta \u001b[36m0:00:00\u001b[0m\n",
            "\u001b[2K   \u001b[90m━━━━━━━━━━━━━━━━━━━━━━━━━━━━━━━━━━━━━━━━\u001b[0m \u001b[32m79.1/79.1 kB\u001b[0m \u001b[31m5.4 MB/s\u001b[0m eta \u001b[36m0:00:00\u001b[0m\n",
            "\u001b[2K   \u001b[90m━━━━━━━━━━━━━━━━━━━━━━━━━━━━━━━━━━━━━━━━\u001b[0m \u001b[32m1.2/1.2 MB\u001b[0m \u001b[31m4.6 MB/s\u001b[0m eta \u001b[36m0:00:00\u001b[0m\n",
            "\u001b[?25hCollecting pyngrok\n",
            "  Downloading pyngrok-7.2.1-py3-none-any.whl.metadata (8.3 kB)\n",
            "Requirement already satisfied: PyYAML>=5.1 in /usr/local/lib/python3.10/dist-packages (from pyngrok) (6.0.2)\n",
            "Downloading pyngrok-7.2.1-py3-none-any.whl (22 kB)\n",
            "Installing collected packages: pyngrok\n",
            "Successfully installed pyngrok-7.2.1\n"
          ]
        }
      ]
    },
    {
      "cell_type": "markdown",
      "source": [
        "# Set up the LLM Model and Langchain Chain"
      ],
      "metadata": {
        "id": "skTIxvSBvACY"
      }
    },
    {
      "cell_type": "markdown",
      "source": [
        "Here we will use Gemini model to do our inference and use langchain to create a small prompt pipeline."
      ],
      "metadata": {
        "id": "XNVaAAOOvGwQ"
      }
    },
    {
      "cell_type": "code",
      "source": [
        "import os\n",
        "import getpass\n",
        "\n",
        "os.environ[\"GOOGLE_API_KEY\"] = getpass.getpass(\"Enter your Google AI API key: \")\n",
        "\n",
        "from pyngrok import ngrok, conf\n",
        "print(\"Enter your authtoken, which can be copied from https://dashboard.ngrok.com/get-started/your-authtoken\")\n",
        "conf.get_default().auth_token = getpass.getpass()"
      ],
      "metadata": {
        "colab": {
          "base_uri": "https://localhost:8080/"
        },
        "id": "9Tk0lj7mP-PS",
        "outputId": "69f0239b-a5de-4c29-8eba-f57b210666e6"
      },
      "execution_count": null,
      "outputs": [
        {
          "output_type": "stream",
          "name": "stdout",
          "text": [
            "Enter your authtoken, which can be copied from https://dashboard.ngrok.com/get-started/your-authtoken\n"
          ]
        }
      ]
    },
    {
      "cell_type": "code",
      "execution_count": null,
      "metadata": {
        "id": "4UyvBqiq6obD",
        "colab": {
          "base_uri": "https://localhost:8080/"
        },
        "outputId": "b8f11e5f-aa43-41a5-f32e-1d06d9fe86d2"
      },
      "outputs": [
        {
          "output_type": "stream",
          "name": "stdout",
          "text": [
            "Writing StreamlitApp.py\n"
          ]
        }
      ],
      "source": [
        "%%writefile StreamlitApp.py\n",
        "import urllib, urllib.request\n",
        "import feedparser\n",
        "import math\n",
        "import datetime\n",
        "from dateutil.relativedelta import relativedelta\n",
        "\n",
        "from langchain_google_genai import ChatGoogleGenerativeAI\n",
        "from langchain.prompts import ChatPromptTemplate\n",
        "\n",
        "llm = ChatGoogleGenerativeAI(\n",
        "    model=\"gemini-1.5-flash\",\n",
        "    temperature=0,\n",
        "    max_tokens=50000,\n",
        "    timeout=None,\n",
        "    max_retries=5,\n",
        "    # other params..\n",
        ")\n",
        "\n",
        "# Prompt for Author Queries\n",
        "prompt_author = ChatPromptTemplate.from_messages([\n",
        "    (\"system\", \"You are a analyst that specializes in understanding the topic of interest of a given author or time period. \"\n",
        "    \"You are given a set of papers by a certain author and you are to give a report on how the interest of this author have changed over time. The information is in a .json file format. \"\n",
        "    \"The information contains the id of the paper, the date it was published, list of authors, and a summary of the paper. \"\n",
        "    \"Create a citation of papers with proper bibliography to support why you think the author worked on the topic you state. \"\n",
        "    \"Put the references at the end of and use numbers to cite through the body. \"\n",
        "    \"Restrict the number of references to 20. \"\n",
        "    \"Do not summaries the author's papers. \"\n",
        "    \"Give an in-depth summary of their career but keep it concise. \"\n",
        "    \"Focus only on the author the user asked about and disregard any papers that do not contain that author's name.\"),\n",
        "    (\"user\", \"{Prompt}\\nContext:\\n{Context}\"),\n",
        "    ])\n",
        "\n",
        "# Prompt for Date Queries\n",
        "prompt_date = ChatPromptTemplate.from_messages([\n",
        "    (\"system\", \"You are an analyst specializing in identifying the main topics of interest during a given time period. \"\n",
        "    \"You are given a set of papers published within a specified date range, provided in .json file format. \"\n",
        "    \"The information includes the id of the paper, the date it was published, the list of authors, and a summary of the paper. \"\n",
        "    \"Your task is to determine the primary topics of interest during the specified time period based on the given data. \"\n",
        "    \"Provide a clear summary of these topics, supported by citations of papers using their ids, and include a bibliography at the end. \"\n",
        "    \"Use numbers to cite references throughout the body of your report. \"\n",
        "    \"Restrict the number of references to 20. \"\n",
        "    \"Do not summarize individual papers but focus on identifying and describing the key topics of interest during the given period. \"\n",
        "    \"Ignore any papers published outside the specified date range.\"),\n",
        "    (\"user\", \"{Prompt}\\nContext:\\n{Context}\"),\n",
        "    ])\n",
        "\n",
        "# Simple author and date chains\n",
        "chain_author = prompt_author | llm\n",
        "chain_date = prompt_date | llm"
      ]
    },
    {
      "cell_type": "markdown",
      "source": [
        "# Query ArXiv for Papers"
      ],
      "metadata": {
        "id": "XjOeSBCGvqWr"
      }
    },
    {
      "cell_type": "markdown",
      "source": [
        "We use a given author's name to pull at max {max_results} number of papers from ArXiv using their API"
      ],
      "metadata": {
        "id": "_2GUPo4Mvwrn"
      }
    },
    {
      "cell_type": "code",
      "execution_count": null,
      "metadata": {
        "id": "b7tgXVPG6obF",
        "colab": {
          "base_uri": "https://localhost:8080/"
        },
        "outputId": "c9698a48-567d-4dd4-8fab-c689758ba943"
      },
      "outputs": [
        {
          "output_type": "stream",
          "name": "stdout",
          "text": [
            "Appending to StreamlitApp.py\n"
          ]
        }
      ],
      "source": [
        "%%writefile -a StreamlitApp.py\n",
        "def get_arxiv_docs_author(full_name, category):\n",
        "    \"\"\"\n",
        "    This function calls the ArXiv API and retrives relavent papers, appeneds the json information\n",
        "    (which contains the abstract) together in to a single string.\n",
        "\n",
        "    Parameters:\n",
        "        full_name: author's full name.\n",
        "        category: ArXiv category from which the papers are retrieved.\n",
        "\n",
        "    Return:\n",
        "        output_str: String containing the paper id, publishing date,\n",
        "                    author names, title and abstract of the papers.\n",
        "    \"\"\"\n",
        "\n",
        "    base_url = 'http://export.arxiv.org/api/query?'\n",
        "    max_results=1000\n",
        "\n",
        "    search_query = f'au:{\"+\".join(full_name.split())}+AND+cat:{category}&sortBy=submittedDate&sortOrder=descending'\n",
        "\n",
        "    query = 'search_query=%s&max_results=%i' % (search_query,max_results)\n",
        "\n",
        "    data = urllib.request.urlopen(base_url+query)\n",
        "    feed = feedparser.parse(data.read().decode('utf-8'))\n",
        "\n",
        "    output = []\n",
        "\n",
        "    # Select and record relevant information for each entry, if the query author is among the authors of the entry\n",
        "    for paper in feed.entries:\n",
        "        paper_info = {\n",
        "            'id' : paper.id.split('/abs/')[-1],\n",
        "            'published' : paper.published,\n",
        "            'authors' : [aut['name'] for aut in paper.authors],\n",
        "            'title': paper.title,\n",
        "            'summary': paper.summary\n",
        "            }\n",
        "        if full_name in paper_info['authors']: # or alias in paper_info[\"authors\"]:\n",
        "            output.append(paper_info)\n",
        "\n",
        "    # Limit the number of papers used to 100 (important for when\n",
        "    # using gemini-1.5-pro on a free account) to limit the number of tokens used.\n",
        "    if len(output) > 100:\n",
        "        skip_size = math.ceil(len(output) / 100)\n",
        "        output_used = output[::skip_size]\n",
        "    else:\n",
        "        output_used = output\n",
        "\n",
        "    output_str =  \"\".join([str(dic)+\"\\n\\n\" for dic in output_used])\n",
        "    return output_str"
      ]
    },
    {
      "cell_type": "markdown",
      "source": [
        "We use a range of dates to pull at max {max_results} number of papers from ArXiv using their API"
      ],
      "metadata": {
        "id": "nMT9bYILACJx"
      }
    },
    {
      "cell_type": "code",
      "source": [
        "%%writefile -a StreamlitApp.py\n",
        "def get_arxiv_docs_date(start, end, category):\n",
        "    \"\"\"\n",
        "    This function calls the ArXiv API and retrives relavent papers, appeneds the json information\n",
        "    (which contains the abstract) together in to a single string.\n",
        "\n",
        "    Parameters:\n",
        "        start: start date of the date range.\n",
        "        end: end date of the date range.\n",
        "        category: ArXiv category from which the papers are retrieved.\n",
        "\n",
        "    Return:\n",
        "        output_str: String containing the paper id, publishing date,\n",
        "                    author names, title and abstract of the papers.\n",
        "    \"\"\"\n",
        "    base_url = 'http://export.arxiv.org/api/query?'\n",
        "\n",
        "    max_results=1000\n",
        "\n",
        "    start = start.replace('-','')\n",
        "    end = end.replace('-','')\n",
        "\n",
        "    # Query\n",
        "    search_query = f'cat:{category}+AND+submittedDate:[{start}0000+TO+{end}2359]'\n",
        "    query = 'search_query=%s&start=%i&max_results=%i' % (search_query, 0, max_results)\n",
        "\n",
        "    data = urllib.request.urlopen(base_url+query)\n",
        "    feed = feedparser.parse(data.read().decode('utf-8'))\n",
        "\n",
        "    output = [ {'id' : paper.id.split('/abs/')[-1],\n",
        "            'published' : paper.published,\n",
        "            'authors' : [aut['name'] for aut in paper.authors],\n",
        "            'title': paper.title,\n",
        "            'summary': paper.summary}\n",
        "            for paper in feed.entries]\n",
        "\n",
        "    # Limit the number of papers used to 100 (important for when\n",
        "    # using gemini-1.5-pro on a free account) to limit the number of tokens used.\n",
        "    if len(output) > 100:\n",
        "        skip_size = math.ceil(len(output) / 100)\n",
        "        output_used = output[::skip_size]\n",
        "    else:\n",
        "        output_used = output\n",
        "\n",
        "    output_str =  \"\".join([str(dic)+\"\\n\\n\" for dic in output_used])\n",
        "    return output_str"
      ],
      "metadata": {
        "colab": {
          "base_uri": "https://localhost:8080/"
        },
        "id": "XU5gAJ7n-Zpc",
        "outputId": "8d9f98f8-ce4e-4f6d-985f-0d4d1254b72b"
      },
      "execution_count": null,
      "outputs": [
        {
          "output_type": "stream",
          "name": "stdout",
          "text": [
            "Appending to StreamlitApp.py\n"
          ]
        }
      ]
    },
    {
      "cell_type": "markdown",
      "source": [
        "## how_to_text"
      ],
      "metadata": {
        "id": "ujRbf-aDq7xA"
      }
    },
    {
      "cell_type": "markdown",
      "source": [
        "Write a guide for how to use the Author tab"
      ],
      "metadata": {
        "id": "lJtfVK_2Aj4X"
      }
    },
    {
      "cell_type": "code",
      "source": [
        "%%writefile -a StreamlitApp.py\n",
        "how_to_text_author = \"\"\"\n",
        "## **What is ArXiv Author Summarizer?**\n",
        "This application is useful for quickly understanding the research interests and impact of an author based on their publications indexed in ArXiv. It is especially helpful for students, researchers, and collaborators looking to familiarize themselves with a particular scholar's work.\n",
        "\n",
        "---\n",
        "\n",
        "## **How to Use the ArXiv Author Summarizer**\n",
        "1. **Enter Author Name**:\n",
        "   - Start by typing the FULL NAME of the author you want to focus on in the \"Author Name\" input field.\n",
        "\n",
        "2. **View the ArXiv Categories**:\n",
        "   - The app provides a link to the list of categories on ArXiv: [https://arxiv.org/category_taxonomy](https://arxiv.org/category_taxonomy). You can explore this link for reference.\n",
        "\n",
        "3. **Select Area of Expertise**:\n",
        "   - Choose the broad field the author works in from the dropdown menu labeled **\"What area does this professor work in?\"**\n",
        "     Options include:\n",
        "     - **Computer Science**\n",
        "     - **Mathematics**\n",
        "     - **Physics**\n",
        "\n",
        "4. **Choose a Specific Category**:\n",
        "   - Based on the area of expertise selected, a second dropdown menu labeled **\"Category\"** will appear with a list of specific categories (e.g., `cs.AI`, `math.AG`, or `cond-mat.dis-nn`).\n",
        "   - Select the most relevant category.\n",
        "   - If none of the options fit, you can choose **\"other,\"** which will prompt you to manually input a category ID.\n",
        "\n",
        "5. **Click \"Summarize!\"**:\n",
        "   - Once you've provided the necessary inputs, click the **Summarize!** button.\n",
        "   - The application will retrieve relevant documents from ArXiv about the author and generate a detailed summary of their research focus.\n",
        "\n",
        "6. **View the Output**:\n",
        "   - The summary of the author’s research and contributions will appear on the right side of the application.\n",
        "\"\"\""
      ],
      "metadata": {
        "colab": {
          "base_uri": "https://localhost:8080/"
        },
        "id": "uV-pfozIqzKr",
        "outputId": "b56b35eb-1cc0-44a9-ea1c-b67509190557"
      },
      "execution_count": null,
      "outputs": [
        {
          "output_type": "stream",
          "name": "stdout",
          "text": [
            "Appending to StreamlitApp.py\n"
          ]
        }
      ]
    },
    {
      "cell_type": "markdown",
      "source": [
        "Write a guide for how to use the Date tab"
      ],
      "metadata": {
        "id": "suseWUisAoqZ"
      }
    },
    {
      "cell_type": "code",
      "source": [
        "%%writefile -a StreamlitApp.py\n",
        "how_to_text_date = \"\"\"\n",
        "## **What is the ArXiv Date Range Summarizer?**\n",
        "\n",
        "This application is useful for quickly identifying the topics of interest and significant trends in research published on ArXiv within a specific date range. It is particularly helpful for students, researchers, and analysts who want to understand the focus of academic publications during a certain time period.\n",
        "\n",
        "---\n",
        "\n",
        "## **How to Use the ArXiv Date Range Summarizer**\n",
        "\n",
        "1. **Specify Date Range**:\n",
        "   - Start by entering the **Start Date** and **End Date** in the respective input fields to define the time period you want to analyze. The end date can not be more than a month apart.\n",
        "\n",
        "2. **View the ArXiv Categories**:\n",
        "   - The app provides a link to the list of categories on ArXiv: [https://arxiv.org/category_taxonomy](https://arxiv.org/category_taxonomy). You can explore this link for reference.\n",
        "\n",
        "3. **Select Area of Expertise**:\n",
        "   - Choose the broad field of research you want to focus on from the dropdown menu labeled **\"What area does this research focus on?\"**\n",
        "     Options include:\n",
        "     - **Computer Science**\n",
        "     - **Mathematics**\n",
        "     - **Physics**\n",
        "\n",
        "4. **Choose a Specific Category**:\n",
        "   - Based on the area of expertise selected, a second dropdown menu labeled **\"Category\"** will appear with a list of specific categories (e.g., `cs.AI`, `math.AG`, or `cond-mat.dis-nn`).\n",
        "   - Select the most relevant category.\n",
        "   - If none of the options fit, you can choose **\"other,\"** which will prompt you to manually input a category ID.\n",
        "\n",
        "5. **Click \"Summarize Dates!\"**:\n",
        "   - Once you've provided the necessary inputs, click the **Summarize Dates!** button.\n",
        "   - The application will retrieve relevant documents from ArXiv published within the specified time period and generate a detailed summary of the topics of interest.\n",
        "\n",
        "6. **View the Output**:\n",
        "   - The summary of research topics and focus areas during the specified date range will appear on the right side of the application.\n",
        "   \"\"\"\n"
      ],
      "metadata": {
        "colab": {
          "base_uri": "https://localhost:8080/"
        },
        "id": "_4Ct4joiSDKQ",
        "outputId": "ba49ae39-ceb9-4bfe-a434-d88b15f8d843"
      },
      "execution_count": null,
      "outputs": [
        {
          "output_type": "stream",
          "name": "stdout",
          "text": [
            "Appending to StreamlitApp.py\n"
          ]
        }
      ]
    },
    {
      "cell_type": "markdown",
      "source": [
        "## Steamlit App"
      ],
      "metadata": {
        "id": "WbIc6PvfrDDj"
      }
    },
    {
      "cell_type": "code",
      "source": [
        "%%writefile -a StreamlitApp.py\n",
        "import streamlit as st\n",
        "st.set_page_config(page_title=\"ArXiv Topics Summarizer\", page_icon=\":robot:\")\n",
        "st.title(\"ArXiv Topics Summarizer :robot_face:\")\n",
        "\n",
        "# Create two tabs for the two types of queries.\n",
        "tab1, tab2 = st.tabs([\"Author\", \"Date\"])\n",
        "\n",
        "# Helper function to generate a drop down menu to select a ArXiv category\n",
        "def show_categories(group, key):\n",
        "    \"\"\"\n",
        "    This function creates a drop down box based on the group chosen in\n",
        "    the previous drop down box.\n",
        "\n",
        "    Parameters:\n",
        "        group: The group chosen in the previous drop down box.\n",
        "        key: \"auth\" or \"date\" to keep the drop down boxes separate for the two tabs.\n",
        "\n",
        "    Return:\n",
        "        category: The category selected in the drop down box.\n",
        "    \"\"\"\n",
        "\n",
        "    # The key helps keep different selectboxes for the two tabs\n",
        "    used_key = \"cat\"+key\n",
        "    match group:\n",
        "        case \"Computer Science\":\n",
        "            category = st.selectbox(\"Category you wish to focus on: \",\n",
        "            (\"cs.AI\", \"cs.IT\", \"cs.LG\", \"cs.NA\", \"other\"), key=used_key)\n",
        "        case \"Mathematics\":\n",
        "            category = st.selectbox(\"Category you wish to focus on: \",\n",
        "            (\"math.AG\", \"math.A\", \"math.CT\", \"math.KT\", \"math.MP\", \"math.QA\", \"math.RT\", \"math.SG\", \"math.SP\", \"other\"), key=used_key)\n",
        "        case \"Physics\":\n",
        "            category = st.selectbox(\"Category you wish to focus on: \",\n",
        "            (\"cond-mat.dis-nn\", \"cond-mat.mes-hall\", \"cond-mat.supr-con\", \"cond-mat.stat-mech\", \"hep-ex\", \"hep-th\", \"math-ph\", \"other\"), key=used_key)\n",
        "    return category"
      ],
      "metadata": {
        "colab": {
          "base_uri": "https://localhost:8080/"
        },
        "id": "BhegiYllRdzE",
        "outputId": "839e0355-189e-4646-f1d8-0500a42ca6ca"
      },
      "execution_count": null,
      "outputs": [
        {
          "output_type": "stream",
          "name": "stdout",
          "text": [
            "Appending to StreamlitApp.py\n"
          ]
        }
      ]
    },
    {
      "cell_type": "markdown",
      "source": [
        "### Tab 1: Author"
      ],
      "metadata": {
        "id": "Ldn3dxfCBC_S"
      }
    },
    {
      "cell_type": "code",
      "source": [
        "%%writefile -a StreamlitApp.py\n",
        "with tab1:\n",
        "    # Create two columns. Left has text input for author's name and drop down to select the category.\n",
        "    # Right column has the generated response.\n",
        "    col1, col2 = st.columns([5, 8])\n",
        "\n",
        "    with col1:\n",
        "        st.session_state.author_name = st.text_input(\"Author Name\", \"Name\")\n",
        "        st.write(\"Select a category which you wish to focus on. Here is the list of categories on ArXiv:\\nhttps://arxiv.org/category_taxonomy\")\n",
        "        group_auth = st.selectbox(\"What area does this researcher work in?\",\n",
        "                            (\"Computer Science\", \"Mathematics\", \"Physics\"),\n",
        "                            key=\"group_auth\", placeholder = \"---\")\n",
        "\n",
        "        st.session_state.category_1 = show_categories(group_auth, \"auth\")\n",
        "\n",
        "        # If the category is \"other\" create a text_input to manually enter the category\n",
        "        if st.session_state.category_1 == \"other\":\n",
        "            st.session_state.category_1 = st.text_input(\"Please enter the category ID: \", \"hep-th\")\n",
        "\n",
        "        if submitted:= st.button(\"Summarize Author!\"):\n",
        "            # Once the submit button is pressed retrieve context and generate response.\n",
        "            context = get_arxiv_docs_author(st.session_state.author_name, st.session_state.category_1)\n",
        "            st.session_state.llm_result_author = chain_author.stream({\"Prompt\": f\"Can you tell me about the interests of {st.session_state.author_name}.\"\n",
        "                                                        , \"Context\": context})\n",
        "            with col2:\n",
        "                # Stream out the response in the right column\n",
        "                aut_tit = (f\"## {st.session_state.author_name} \\n\\n\")\n",
        "                st.write(aut_tit)\n",
        "                sum_res = st.write_stream(st.session_state.llm_result_author)\n",
        "                # Store the final output\n",
        "                st.session_state[\"res_auth\"] = aut_tit + sum_res\n",
        "\n",
        "        else:\n",
        "            # If just the options are being tinkered reprint the old output.\n",
        "            if st.session_state.get(\"res_auth\"):\n",
        "                with col2:\n",
        "                    st.write(st.session_state[\"res_auth\"])\n",
        "            # If there is no previous response (new run), print out the how to text for author.\n",
        "            else:\n",
        "                with col2:\n",
        "                    st.write(how_to_text_author)"
      ],
      "metadata": {
        "id": "z0FO33O3Atnm"
      },
      "execution_count": null,
      "outputs": []
    },
    {
      "cell_type": "markdown",
      "source": [
        "### Tab 2: Date"
      ],
      "metadata": {
        "id": "b5Rj4W_QCiGQ"
      }
    },
    {
      "cell_type": "code",
      "source": [
        "%%writefile -a StreamlitApp.py\n",
        "with tab2:\n",
        "    # Create two columns. Left has text input for start and end date, and drop down to select the category.\n",
        "    # Right column has the generated response.\n",
        "    col1, col2 = st.columns([5, 8])\n",
        "\n",
        "    with col1:\n",
        "        st.session_state.start_date = st.date_input(label = \"Start Date\", value=\"default_value_today\", format=\"YYYY/MM/DD\")\n",
        "        st.session_state.end_date = st.date_input(label = \"End Date\", value=st.session_state.start_date, min_value=st.session_state.start_date,\n",
        "                                                  max_value=st.session_state.start_date + relativedelta(months=1) , format=\"YYYY/MM/DD\")\n",
        "        st.write(\"Select a category which you wish to focus on. Here is the list of categories on ArXiv:\\nhttps://arxiv.org/category_taxonomy\")\n",
        "        group_date = st.selectbox(\"What area does this professor work in?\",\n",
        "                            (\"Computer Science\", \"Mathematics\", \"Physics\"),\n",
        "                            key=\"group_date\", placeholder = \"---\")\n",
        "\n",
        "        st.session_state.category_2 = show_categories(group_date, \"date\")\n",
        "\n",
        "        # If the category is \"other\" create a text_input to manually enter the category\n",
        "        if st.session_state.category_2 == \"other\":\n",
        "            st.session_state.category_2 = st.text_input(\"Please enter the category ID: \", \"hep-th\")\n",
        "\n",
        "        if submitted:= st.button(\"Summarize Dates!\"):\n",
        "            # Once the submit button is pressed retrieve context and generate response.\n",
        "            context = get_arxiv_docs_date(str(st.session_state.start_date), str(st.session_state.end_date), st.session_state.category_2)\n",
        "            st.session_state.llm_result_date = chain_date.stream({\"Prompt\": f\"Can you tell me about the interests between \"+str(st.session_state.start_date) + \" to \" + str(st.session_state.end_date)+\".\"\n",
        "                                                        , \"Context\": context})\n",
        "            with col2:\n",
        "                # Stream out the response in the right column\n",
        "                date_tit = \"## \"+str(st.session_state.start_date) + \" to \" + str(st.session_state.end_date)+\"\\n\\n\"\n",
        "                st.write(date_tit)\n",
        "                sum_res = st.write_stream(st.session_state.llm_result_date)\n",
        "                # Store the final output\n",
        "                st.session_state[\"res_date\"] = date_tit + sum_res\n",
        "\n",
        "        else:\n",
        "            # If just the options are being tinkered reprint the old output.\n",
        "            if st.session_state.get(\"res_date\"):\n",
        "                with col2:\n",
        "                    st.write(st.session_state[\"res_date\"])\n",
        "            # If there is no previous response (new run), print out the how to text for author.\n",
        "            else:\n",
        "                with col2:\n",
        "                    st.write(how_to_text_date)"
      ],
      "metadata": {
        "colab": {
          "base_uri": "https://localhost:8080/"
        },
        "id": "TzcDpcmg8Ax3",
        "outputId": "c68ba9de-3822-49d1-e64f-b62e687e099a"
      },
      "execution_count": null,
      "outputs": [
        {
          "output_type": "stream",
          "name": "stdout",
          "text": [
            "Appending to StreamlitApp.py\n"
          ]
        }
      ]
    },
    {
      "cell_type": "markdown",
      "source": [
        "# Host the Webapp using Ngork"
      ],
      "metadata": {
        "id": "Ir5ZOMYKC-Nw"
      }
    },
    {
      "cell_type": "code",
      "source": [
        "import getpass\n",
        "from pyngrok import ngrok, conf\n",
        "\n",
        "custom_domain = \"\" # Put the free custom_domain provided by ngrok here\n",
        "\n",
        "# Link port 8501 with the domain\n",
        "public_url = ngrok.connect('8501',  hostname=custom_domain).public_url\n",
        "print(\"Here is your website link:\\n\",public_url)"
      ],
      "metadata": {
        "id": "BKnLzJdsdgjE",
        "colab": {
          "base_uri": "https://localhost:8080/"
        },
        "outputId": "261d70b4-03d7-4562-9352-42c72ac7f8c9"
      },
      "execution_count": null,
      "outputs": [
        {
          "output_type": "stream",
          "name": "stdout",
          "text": [
            "Here is your website link:\n",
            " https://osprey-fit-loosely.ngrok-free.app\n"
          ]
        }
      ]
    },
    {
      "cell_type": "code",
      "source": [
        "# Now we simply run the streamlit app on port 8501 and our\n",
        "# webapp is ready!\n",
        "!streamlit run --server.port 8501 StreamlitApp.py >/dev/null"
      ],
      "metadata": {
        "id": "0LOkep05aiAK"
      },
      "execution_count": null,
      "outputs": []
    }
  ],
  "metadata": {
    "kernelspec": {
      "display_name": "arXiv",
      "language": "python",
      "name": "python3"
    },
    "language_info": {
      "codemirror_mode": {
        "name": "ipython",
        "version": 3
      },
      "file_extension": ".py",
      "mimetype": "text/x-python",
      "name": "python",
      "nbconvert_exporter": "python",
      "pygments_lexer": "ipython3",
      "version": "3.12.3"
    },
    "colab": {
      "provenance": [],
      "include_colab_link": true
    }
  },
  "nbformat": 4,
  "nbformat_minor": 0
}